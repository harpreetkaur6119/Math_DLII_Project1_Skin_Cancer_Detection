{
 "cells": [
  {
   "attachments": {},
   "cell_type": "markdown",
   "id": "921979b8",
   "metadata": {},
   "source": [
    "# Skin Cancer Detection using CNN\n",
    "\n",
    "Cancer is a disease in which cells are developed abnormally and they divide uncontrollably. This in turn has the ability to infiltrate and destroy normal body tissue. Skin cancer is by far the most common type of cancer. If detected early, it is highly treatable.\n",
    "\n",
    "Deep learning in the field of image processing has shown exceptional results. The aim of this project is to do skin cancer detection using Convolutional Neural Networks (CNN) and transfer learning. The goal is to create such a model that it can detect from a scan if the cancer is benign or malignant, so that it is detected and appropriate medical treatment can be provided for its cure.\n",
    "\n",
    "TensorFlow library is used for the deep learning. Xception Convolutional Neural Network (CNN) is used."
   ]
  },
  {
   "attachments": {},
   "cell_type": "markdown",
   "id": "c276006a",
   "metadata": {},
   "source": [
    "### Importing the libraries\n",
    "\n",
    "The required libraries are imported."
   ]
  },
  {
   "cell_type": "code",
   "execution_count": 1,
   "id": "ffe43be0",
   "metadata": {
    "execution": {
     "iopub.execute_input": "2023-03-28T20:40:04.415032Z",
     "iopub.status.busy": "2023-03-28T20:40:04.413533Z",
     "iopub.status.idle": "2023-03-28T20:40:12.234738Z",
     "shell.execute_reply": "2023-03-28T20:40:12.233572Z"
    },
    "papermill": {
     "duration": 7.827266,
     "end_time": "2023-03-28T20:40:12.237620",
     "exception": false,
     "start_time": "2023-03-28T20:40:04.410354",
     "status": "completed"
    },
    "tags": []
   },
   "outputs": [],
   "source": [
    "# import libraries\n",
    "import tensorflow as tf\n",
    "from tensorflow.keras.applications.xception import Xception\n",
    "from tensorflow.keras import Input, Model\n",
    "from tensorflow.keras.layers import Lambda, Dropout, Activation, Dense\n",
    "from tensorflow.keras.preprocessing.image import ImageDataGenerator \n",
    "import pandas as pd\n",
    "import plotly.express as px"
   ]
  },
  {
   "attachments": {},
   "cell_type": "markdown",
   "id": "07ceee9e",
   "metadata": {},
   "source": [
    "### Creating the directories for Kaggle\n",
    "\n",
    "Directories for train, test and output folders are created.\n",
    "\n",
    "The image dimension is also set for 299 pixels based upon the data."
   ]
  },
  {
   "cell_type": "code",
   "execution_count": 3,
   "id": "1f06fb11",
   "metadata": {
    "execution": {
     "iopub.execute_input": "2023-03-28T20:40:12.244877Z",
     "iopub.status.busy": "2023-03-28T20:40:12.244187Z",
     "iopub.status.idle": "2023-03-28T20:40:12.249307Z",
     "shell.execute_reply": "2023-03-28T20:40:12.248194Z"
    },
    "papermill": {
     "duration": 0.011369,
     "end_time": "2023-03-28T20:40:12.251614",
     "exception": false,
     "start_time": "2023-03-28T20:40:12.240245",
     "status": "completed"
    },
    "tags": []
   },
   "outputs": [],
   "source": [
    "trainFolder = \"../input/skin-cancer-malignant-vs-benign/train/\"\n",
    "testFolder = \"../input/skin-cancer-malignant-vs-benign/test/\"\n",
    "outputDir = \"/kaggle/working/\"\n",
    "imgDim = 299"
   ]
  },
  {
   "attachments": {},
   "cell_type": "markdown",
   "id": "a66e8508",
   "metadata": {},
   "source": [
    "### Generalized Mean Pooling\n",
    "\n",
    "Generalized Mean Pooling computes the generalized mean of each channel of a tensor. It helps focus on the salient features of the image."
   ]
  },
  {
   "cell_type": "code",
   "execution_count": 4,
   "id": "7f3436e9",
   "metadata": {
    "execution": {
     "iopub.execute_input": "2023-03-28T20:40:12.257780Z",
     "iopub.status.busy": "2023-03-28T20:40:12.257490Z",
     "iopub.status.idle": "2023-03-28T20:40:16.054272Z",
     "shell.execute_reply": "2023-03-28T20:40:16.053123Z"
    },
    "papermill": {
     "duration": 3.802927,
     "end_time": "2023-03-28T20:40:16.057242",
     "exception": false,
     "start_time": "2023-03-28T20:40:12.254315",
     "status": "completed"
    },
    "tags": []
   },
   "outputs": [],
   "source": [
    "gm_exp = tf.Variable(3., dtype=tf.float32)\n",
    "def generalized_mean_pool_2d(X):\n",
    "    pool = (tf.reduce_mean(tf.abs(X**(gm_exp)), \n",
    "                           axis=[1,2], \n",
    "                           keepdims=False)+1.e-8)**(1./gm_exp)\n",
    "    return pool\n"
   ]
  },
  {
   "attachments": {},
   "cell_type": "markdown",
   "id": "56d79270",
   "metadata": {},
   "source": [
    "### Base Model\n",
    "\n",
    "We have defined a function \"getBaseModel\" that takes \"freezedLayers\" as attributes and those number of layers are freezed in the \"Xception\" CNN for transfer learning. The property \"layer.trainable\" is set as \"False\" for the layers that we want to freeze."
   ]
  },
  {
   "cell_type": "code",
   "execution_count": null,
   "id": "ac899ef4",
   "metadata": {},
   "outputs": [],
   "source": [
    "def getBaseModel(freezedLayers):\n",
    "    model = Xception(input_shape=(imgDim,imgDim,3),weights='imagenet',include_top=False)\n",
    "    for layer in model.layers:\n",
    "        layer.trainable = True\n",
    "    for layer in model.layers[:freezedLayers]:\n",
    "        layer.trainable = False   \n",
    "    return model"
   ]
  },
  {
   "attachments": {},
   "cell_type": "markdown",
   "id": "84a8b2c9",
   "metadata": {},
   "source": [
    "### Additional Layers\n",
    "\n",
    "A function \"getAttachmentForModel\" is defined in which The additional layers are defined for training i.e., 3 hidden (dropout, activation and dense) layers and 1 output layer."
   ]
  },
  {
   "cell_type": "code",
   "execution_count": null,
   "id": "8ff8af60",
   "metadata": {},
   "outputs": [],
   "source": [
    "def getAttachmentForModel(model):\n",
    "    X_feat = Input(model.output_shape[1:])\n",
    "    lambda_layer = Lambda(generalized_mean_pool_2d)\n",
    "    lambda_layer.trainable_weights.extend([gm_exp])\n",
    "    X = lambda_layer(X_feat)\n",
    "    X = Dropout(0.05)(X)\n",
    "    X = Activation('relu')(X)\n",
    "    X = Dense(2, activation='softmax')(X)\n",
    "    return Model(inputs=X_feat, outputs=X)"
   ]
  },
  {
   "attachments": {},
   "cell_type": "markdown",
   "id": "740009f8",
   "metadata": {},
   "source": [
    "### Final Model\n",
    "\n",
    "The \"getFinalModel\" function takes the base model as input and creates a model with the freezed layers as well as the new layers that are required for the training of the model."
   ]
  },
  {
   "cell_type": "code",
   "execution_count": null,
   "id": "47ed2602",
   "metadata": {},
   "outputs": [],
   "source": [
    "def getFinalModel(baseModel):\n",
    "    attachment = getAttachmentForModel(baseModel)\n",
    "    imageInput = Input((299,299,3))\n",
    "    finalModel = baseModel(imageInput)\n",
    "    finalModel = attachment(finalModel)\n",
    "    finalModel = Model(inputs=imageInput, outputs=finalModel)\n",
    "    return finalModel"
   ]
  },
  {
   "attachments": {},
   "cell_type": "markdown",
   "id": "73a4671d",
   "metadata": {},
   "source": [
    "### Save History\n",
    "\n",
    "The \"saveHistoryFile\" fuction saves the history including the accuracy for each epoch into a csv file. This can be used later on for visualizations and drawing conclusions."
   ]
  },
  {
   "cell_type": "code",
   "execution_count": 5,
   "id": "52ded1e7",
   "metadata": {
    "execution": {
     "iopub.execute_input": "2023-03-28T20:40:16.064455Z",
     "iopub.status.busy": "2023-03-28T20:40:16.063545Z",
     "iopub.status.idle": "2023-03-28T20:40:16.074297Z",
     "shell.execute_reply": "2023-03-28T20:40:16.073293Z"
    },
    "papermill": {
     "duration": 0.016572,
     "end_time": "2023-03-28T20:40:16.076518",
     "exception": false,
     "start_time": "2023-03-28T20:40:16.059946",
     "status": "completed"
    },
    "tags": []
   },
   "outputs": [],
   "source": [
    "def saveHistoryFile(freezedLayers,model):\n",
    "    df = pd.DataFrame(model.history)\n",
    "    with open(f'{outputDir}{freezedLayers}.json','w') as f:\n",
    "        df.index.name = \"Epoch\"\n",
    "        df[\"freezed_layer\"] = f\"{freezedLayers}\"\n",
    "        df.to_csv(f)\n"
   ]
  },
  {
   "attachments": {},
   "cell_type": "markdown",
   "id": "8ed21f5b",
   "metadata": {},
   "source": [
    "### Image Augmentation\n",
    "\n",
    "This is a technique that is used to expand the dataset artificially. We have set the attributes of \"rescale\" to 1/255, \"shear_range\" to 0.2, \"zoon_range\" to 0.2 and \"horizontal_flip\" as True for both train dataset as well as test dataset.\n",
    "\n",
    "We have defined the train and test folders, targert_size as 299 pixels by 299 pixels, batch_size as 48 images and class_mode as \"categorical\" for both train and test dataset."
   ]
  },
  {
   "cell_type": "code",
   "execution_count": 6,
   "id": "106d90c6",
   "metadata": {
    "execution": {
     "iopub.execute_input": "2023-03-28T20:40:16.083039Z",
     "iopub.status.busy": "2023-03-28T20:40:16.082325Z",
     "iopub.status.idle": "2023-03-28T20:40:16.811915Z",
     "shell.execute_reply": "2023-03-28T20:40:16.810948Z"
    },
    "papermill": {
     "duration": 0.735486,
     "end_time": "2023-03-28T20:40:16.814293",
     "exception": false,
     "start_time": "2023-03-28T20:40:16.078807",
     "status": "completed"
    },
    "tags": []
   },
   "outputs": [
    {
     "name": "stdout",
     "output_type": "stream",
     "text": [
      "Found 2637 images belonging to 2 classes.\n",
      "Found 660 images belonging to 2 classes.\n"
     ]
    }
   ],
   "source": [
    "trainGenerator = ImageDataGenerator(\n",
    "    rescale = 1./255,                                     \n",
    "    shear_range = 0.2,\n",
    "    zoom_range = 0.2,\n",
    "    horizontal_flip = True)\n",
    "\n",
    "testGenerator = ImageDataGenerator(rescale = 1./255)\n",
    "\n",
    "trainData = trainGenerator.flow_from_directory(\n",
    "    trainFolder,\n",
    "    target_size = (299, 299),\n",
    "    batch_size = 48,\n",
    "    class_mode = 'categorical')\n",
    "\n",
    "testData = testGenerator.flow_from_directory(\n",
    "    testFolder, \n",
    "    target_size = (299, 299),\n",
    "    batch_size = 48, \n",
    "    class_mode = 'categorical')\n"
   ]
  },
  {
   "attachments": {},
   "cell_type": "markdown",
   "id": "374b258e",
   "metadata": {},
   "source": [
    "### Train the Model\n",
    "\n",
    "Now, we are training the model. Xception CNN model has 132 layers, therefore, we are starting from 130 freezed layers and going down to 85 layers with the difference of 5 layers each time to reach the optimum result in which we have the best results.\n",
    "\n",
    "The loss function used is \"categorical_crossentropy\" and the optimized is \"adam\"."
   ]
  },
  {
   "cell_type": "code",
   "execution_count": 7,
   "id": "131e07aa",
   "metadata": {
    "execution": {
     "iopub.execute_input": "2023-03-28T20:40:16.820579Z",
     "iopub.status.busy": "2023-03-28T20:40:16.820283Z",
     "iopub.status.idle": "2023-03-28T22:44:52.133745Z",
     "shell.execute_reply": "2023-03-28T22:44:52.132635Z"
    },
    "papermill": {
     "duration": 7475.319492,
     "end_time": "2023-03-28T22:44:52.136254",
     "exception": false,
     "start_time": "2023-03-28T20:40:16.816762",
     "status": "completed"
    },
    "tags": []
   },
   "outputs": [
    {
     "name": "stdout",
     "output_type": "stream",
     "text": [
      "Using 130 freezed layers\n",
      "Downloading data from https://storage.googleapis.com/tensorflow/keras-applications/xception/xception_weights_tf_dim_ordering_tf_kernels_notop.h5\n",
      "83683744/83683744 [==============================] - 1s 0us/step\n"
     ]
    },
    {
     "name": "stderr",
     "output_type": "stream",
     "text": [
      "/opt/conda/lib/python3.7/site-packages/ipykernel_launcher.py:22: UserWarning: `Model.fit_generator` is deprecated and will be removed in a future version. Please use `Model.fit`, which supports generators.\n"
     ]
    },
    {
     "name": "stdout",
     "output_type": "stream",
     "text": [
      "Epoch 1/10\n",
      "55/55 [==============================] - 97s 2s/step - loss: 0.5346 - binary_accuracy: 0.7436 - auc: 0.8153 - true_positives: 1961.0000 - true_negatives: 1961.0000 - false_positives: 676.0000 - false_negatives: 676.0000 - val_loss: 0.5639 - val_binary_accuracy: 0.7152 - val_auc: 0.8033 - val_true_positives: 472.0000 - val_true_negatives: 472.0000 - val_false_positives: 188.0000 - val_false_negatives: 188.0000\n",
      "Epoch 2/10\n",
      "55/55 [==============================] - 70s 1s/step - loss: 0.4287 - binary_accuracy: 0.8005 - auc: 0.8841 - true_positives: 2111.0000 - true_negatives: 2111.0000 - false_positives: 526.0000 - false_negatives: 526.0000 - val_loss: 0.4246 - val_binary_accuracy: 0.7879 - val_auc: 0.8842 - val_true_positives: 520.0000 - val_true_negatives: 520.0000 - val_false_positives: 140.0000 - val_false_negatives: 140.0000\n",
      "Epoch 3/10\n",
      "55/55 [==============================] - 70s 1s/step - loss: 0.3941 - binary_accuracy: 0.8138 - auc: 0.9027 - true_positives: 2146.0000 - true_negatives: 2146.0000 - false_positives: 491.0000 - false_negatives: 491.0000 - val_loss: 0.3940 - val_binary_accuracy: 0.8152 - val_auc: 0.9029 - val_true_positives: 538.0000 - val_true_negatives: 538.0000 - val_false_positives: 122.0000 - val_false_negatives: 122.0000\n",
      "Epoch 4/10\n",
      "55/55 [==============================] - 70s 1s/step - loss: 0.3763 - binary_accuracy: 0.8294 - auc: 0.9117 - true_positives: 2187.0000 - true_negatives: 2187.0000 - false_positives: 450.0000 - false_negatives: 450.0000 - val_loss: 0.3819 - val_binary_accuracy: 0.8288 - val_auc: 0.9091 - val_true_positives: 547.0000 - val_true_negatives: 547.0000 - val_false_positives: 113.0000 - val_false_negatives: 113.0000\n",
      "Epoch 5/10\n",
      "55/55 [==============================] - 70s 1s/step - loss: 0.3785 - binary_accuracy: 0.8309 - auc: 0.9106 - true_positives: 2191.0000 - true_negatives: 2191.0000 - false_positives: 446.0000 - false_negatives: 446.0000 - val_loss: 0.3779 - val_binary_accuracy: 0.8212 - val_auc: 0.9108 - val_true_positives: 542.0000 - val_true_negatives: 542.0000 - val_false_positives: 118.0000 - val_false_negatives: 118.0000\n",
      "Epoch 6/10\n",
      "55/55 [==============================] - 70s 1s/step - loss: 0.3661 - binary_accuracy: 0.8347 - auc: 0.9170 - true_positives: 2201.0000 - true_negatives: 2201.0000 - false_positives: 436.0000 - false_negatives: 436.0000 - val_loss: 0.3625 - val_binary_accuracy: 0.8288 - val_auc: 0.9182 - val_true_positives: 547.0000 - val_true_negatives: 547.0000 - val_false_positives: 113.0000 - val_false_negatives: 113.0000\n",
      "Epoch 7/10\n",
      "55/55 [==============================] - 70s 1s/step - loss: 0.3463 - binary_accuracy: 0.8441 - auc: 0.9260 - true_positives: 2226.0000 - true_negatives: 2226.0000 - false_positives: 411.0000 - false_negatives: 411.0000 - val_loss: 0.3738 - val_binary_accuracy: 0.8242 - val_auc: 0.9131 - val_true_positives: 544.0000 - val_true_negatives: 544.0000 - val_false_positives: 116.0000 - val_false_negatives: 116.0000\n",
      "Epoch 8/10\n",
      "55/55 [==============================] - 70s 1s/step - loss: 0.3490 - binary_accuracy: 0.8438 - auc: 0.9242 - true_positives: 2225.0000 - true_negatives: 2225.0000 - false_positives: 412.0000 - false_negatives: 412.0000 - val_loss: 0.3682 - val_binary_accuracy: 0.8303 - val_auc: 0.9158 - val_true_positives: 548.0000 - val_true_negatives: 548.0000 - val_false_positives: 112.0000 - val_false_negatives: 112.0000\n",
      "Epoch 9/10\n",
      "55/55 [==============================] - 70s 1s/step - loss: 0.3313 - binary_accuracy: 0.8517 - auc: 0.9323 - true_positives: 2246.0000 - true_negatives: 2246.0000 - false_positives: 391.0000 - false_negatives: 391.0000 - val_loss: 0.3779 - val_binary_accuracy: 0.8182 - val_auc: 0.9121 - val_true_positives: 540.0000 - val_true_negatives: 540.0000 - val_false_positives: 120.0000 - val_false_negatives: 120.0000\n",
      "Epoch 10/10\n",
      "55/55 [==============================] - 69s 1s/step - loss: 0.3300 - binary_accuracy: 0.8464 - auc: 0.9326 - true_positives: 2232.0000 - true_negatives: 2232.0000 - false_positives: 405.0000 - false_negatives: 405.0000 - val_loss: 0.3698 - val_binary_accuracy: 0.8227 - val_auc: 0.9151 - val_true_positives: 543.0000 - val_true_negatives: 543.0000 - val_false_positives: 117.0000 - val_false_negatives: 117.0000\n",
      "Using 125 freezed layers\n",
      "Epoch 1/10\n",
      "55/55 [==============================] - 78s 1s/step - loss: 0.4323 - binary_accuracy: 0.8134 - auc: 0.8930 - true_positives: 2145.0000 - true_negatives: 2145.0000 - false_positives: 492.0000 - false_negatives: 492.0000 - val_loss: 0.3585 - val_binary_accuracy: 0.8424 - val_auc: 0.9265 - val_true_positives: 556.0000 - val_true_negatives: 556.0000 - val_false_positives: 104.0000 - val_false_negatives: 104.0000\n",
      "Epoch 2/10\n",
      "55/55 [==============================] - 70s 1s/step - loss: 0.2613 - binary_accuracy: 0.8790 - auc: 0.9574 - true_positives: 2318.0000 - true_negatives: 2318.0000 - false_positives: 319.0000 - false_negatives: 319.0000 - val_loss: 0.3878 - val_binary_accuracy: 0.8379 - val_auc: 0.9271 - val_true_positives: 553.0000 - val_true_negatives: 553.0000 - val_false_positives: 107.0000 - val_false_negatives: 107.0000\n",
      "Epoch 3/10\n",
      "55/55 [==============================] - 70s 1s/step - loss: 0.2282 - binary_accuracy: 0.9014 - auc: 0.9682 - true_positives: 2377.0000 - true_negatives: 2377.0000 - false_positives: 260.0000 - false_negatives: 260.0000 - val_loss: 0.2999 - val_binary_accuracy: 0.8591 - val_auc: 0.9450 - val_true_positives: 567.0000 - val_true_negatives: 567.0000 - val_false_positives: 93.0000 - val_false_negatives: 93.0000\n",
      "Epoch 4/10\n",
      "55/55 [==============================] - 70s 1s/step - loss: 0.2094 - binary_accuracy: 0.9071 - auc: 0.9732 - true_positives: 2392.0000 - true_negatives: 2392.0000 - false_positives: 245.0000 - false_negatives: 245.0000 - val_loss: 0.5257 - val_binary_accuracy: 0.7924 - val_auc: 0.8989 - val_true_positives: 523.0000 - val_true_negatives: 523.0000 - val_false_positives: 137.0000 - val_false_negatives: 137.0000\n",
      "Epoch 5/10\n",
      "55/55 [==============================] - 71s 1s/step - loss: 0.1763 - binary_accuracy: 0.9264 - auc: 0.9810 - true_positives: 2443.0000 - true_negatives: 2443.0000 - false_positives: 194.0000 - false_negatives: 194.0000 - val_loss: 0.3883 - val_binary_accuracy: 0.8470 - val_auc: 0.9304 - val_true_positives: 559.0000 - val_true_negatives: 559.0000 - val_false_positives: 101.0000 - val_false_negatives: 101.0000\n",
      "Epoch 6/10\n",
      "55/55 [==============================] - 71s 1s/step - loss: 0.1583 - binary_accuracy: 0.9317 - auc: 0.9846 - true_positives: 2457.0000 - true_negatives: 2457.0000 - false_positives: 180.0000 - false_negatives: 180.0000 - val_loss: 0.3351 - val_binary_accuracy: 0.8803 - val_auc: 0.9478 - val_true_positives: 581.0000 - val_true_negatives: 581.0000 - val_false_positives: 79.0000 - val_false_negatives: 79.0000\n",
      "Epoch 7/10\n",
      "55/55 [==============================] - 70s 1s/step - loss: 0.1444 - binary_accuracy: 0.9405 - auc: 0.9871 - true_positives: 2480.0000 - true_negatives: 2480.0000 - false_positives: 157.0000 - false_negatives: 157.0000 - val_loss: 0.4573 - val_binary_accuracy: 0.8470 - val_auc: 0.9223 - val_true_positives: 559.0000 - val_true_negatives: 559.0000 - val_false_positives: 101.0000 - val_false_negatives: 101.0000\n",
      "Epoch 8/10\n",
      "55/55 [==============================] - 70s 1s/step - loss: 0.1435 - binary_accuracy: 0.9382 - auc: 0.9875 - true_positives: 2474.0000 - true_negatives: 2474.0000 - false_positives: 163.0000 - false_negatives: 163.0000 - val_loss: 0.4476 - val_binary_accuracy: 0.8333 - val_auc: 0.9281 - val_true_positives: 550.0000 - val_true_negatives: 550.0000 - val_false_positives: 110.0000 - val_false_negatives: 110.0000\n",
      "Epoch 9/10\n",
      "55/55 [==============================] - 70s 1s/step - loss: 0.1208 - binary_accuracy: 0.9496 - auc: 0.9909 - true_positives: 2504.0000 - true_negatives: 2504.0000 - false_positives: 133.0000 - false_negatives: 133.0000 - val_loss: 0.3548 - val_binary_accuracy: 0.8667 - val_auc: 0.9443 - val_true_positives: 572.0000 - val_true_negatives: 572.0000 - val_false_positives: 88.0000 - val_false_negatives: 88.0000\n",
      "Epoch 10/10\n",
      "55/55 [==============================] - 70s 1s/step - loss: 0.1059 - binary_accuracy: 0.9549 - auc: 0.9927 - true_positives: 2518.0000 - true_negatives: 2518.0000 - false_positives: 119.0000 - false_negatives: 119.0000 - val_loss: 0.4810 - val_binary_accuracy: 0.8182 - val_auc: 0.9092 - val_true_positives: 540.0000 - val_true_negatives: 540.0000 - val_false_positives: 120.0000 - val_false_negatives: 120.0000\n",
      "Using 120 freezed layers\n",
      "Epoch 1/10\n",
      "55/55 [==============================] - 79s 1s/step - loss: 0.4091 - binary_accuracy: 0.8077 - auc: 0.8965 - true_positives: 2130.0000 - true_negatives: 2130.0000 - false_positives: 507.0000 - false_negatives: 507.0000 - val_loss: 0.3486 - val_binary_accuracy: 0.8682 - val_auc: 0.9422 - val_true_positives: 573.0000 - val_true_negatives: 573.0000 - val_false_positives: 87.0000 - val_false_negatives: 87.0000\n",
      "Epoch 2/10\n",
      "55/55 [==============================] - 71s 1s/step - loss: 0.2828 - binary_accuracy: 0.8760 - auc: 0.9506 - true_positives: 2310.0000 - true_negatives: 2310.0000 - false_positives: 327.0000 - false_negatives: 327.0000 - val_loss: 0.3135 - val_binary_accuracy: 0.8455 - val_auc: 0.9402 - val_true_positives: 558.0000 - val_true_negatives: 558.0000 - val_false_positives: 102.0000 - val_false_negatives: 102.0000\n",
      "Epoch 3/10\n",
      "55/55 [==============================] - 71s 1s/step - loss: 0.2427 - binary_accuracy: 0.8847 - auc: 0.9630 - true_positives: 2333.0000 - true_negatives: 2333.0000 - false_positives: 304.0000 - false_negatives: 304.0000 - val_loss: 0.2809 - val_binary_accuracy: 0.8773 - val_auc: 0.9516 - val_true_positives: 579.0000 - val_true_negatives: 579.0000 - val_false_positives: 81.0000 - val_false_negatives: 81.0000\n",
      "Epoch 4/10\n",
      "55/55 [==============================] - 76s 1s/step - loss: 0.2177 - binary_accuracy: 0.9037 - auc: 0.9707 - true_positives: 2383.0000 - true_negatives: 2383.0000 - false_positives: 254.0000 - false_negatives: 254.0000 - val_loss: 0.4771 - val_binary_accuracy: 0.7985 - val_auc: 0.8970 - val_true_positives: 527.0000 - val_true_negatives: 527.0000 - val_false_positives: 133.0000 - val_false_negatives: 133.0000\n",
      "Epoch 5/10\n",
      "55/55 [==============================] - 71s 1s/step - loss: 0.2038 - binary_accuracy: 0.9067 - auc: 0.9744 - true_positives: 2391.0000 - true_negatives: 2391.0000 - false_positives: 246.0000 - false_negatives: 246.0000 - val_loss: 0.2957 - val_binary_accuracy: 0.8682 - val_auc: 0.9502 - val_true_positives: 573.0000 - val_true_negatives: 573.0000 - val_false_positives: 87.0000 - val_false_negatives: 87.0000\n",
      "Epoch 6/10\n",
      "55/55 [==============================] - 71s 1s/step - loss: 0.1888 - binary_accuracy: 0.9215 - auc: 0.9785 - true_positives: 2430.0000 - true_negatives: 2430.0000 - false_positives: 207.0000 - false_negatives: 207.0000 - val_loss: 0.3718 - val_binary_accuracy: 0.8273 - val_auc: 0.9219 - val_true_positives: 546.0000 - val_true_negatives: 546.0000 - val_false_positives: 114.0000 - val_false_negatives: 114.0000\n",
      "Epoch 7/10\n",
      "55/55 [==============================] - 72s 1s/step - loss: 0.1671 - binary_accuracy: 0.9298 - auc: 0.9829 - true_positives: 2452.0000 - true_negatives: 2452.0000 - false_positives: 185.0000 - false_negatives: 185.0000 - val_loss: 0.4420 - val_binary_accuracy: 0.8197 - val_auc: 0.9164 - val_true_positives: 541.0000 - val_true_negatives: 541.0000 - val_false_positives: 119.0000 - val_false_negatives: 119.0000\n",
      "Epoch 8/10\n",
      "55/55 [==============================] - 71s 1s/step - loss: 0.1364 - binary_accuracy: 0.9424 - auc: 0.9885 - true_positives: 2485.0000 - true_negatives: 2485.0000 - false_positives: 152.0000 - false_negatives: 152.0000 - val_loss: 0.3357 - val_binary_accuracy: 0.8742 - val_auc: 0.9481 - val_true_positives: 577.0000 - val_true_negatives: 577.0000 - val_false_positives: 83.0000 - val_false_negatives: 83.0000\n",
      "Epoch 9/10\n",
      "55/55 [==============================] - 70s 1s/step - loss: 0.1407 - binary_accuracy: 0.9401 - auc: 0.9875 - true_positives: 2479.0000 - true_negatives: 2479.0000 - false_positives: 158.0000 - false_negatives: 158.0000 - val_loss: 0.3884 - val_binary_accuracy: 0.8515 - val_auc: 0.9423 - val_true_positives: 562.0000 - val_true_negatives: 562.0000 - val_false_positives: 98.0000 - val_false_negatives: 98.0000\n",
      "Epoch 10/10\n",
      "55/55 [==============================] - 70s 1s/step - loss: 0.1360 - binary_accuracy: 0.9386 - auc: 0.9887 - true_positives: 2475.0000 - true_negatives: 2475.0000 - false_positives: 162.0000 - false_negatives: 162.0000 - val_loss: 0.3555 - val_binary_accuracy: 0.8561 - val_auc: 0.9414 - val_true_positives: 565.0000 - val_true_negatives: 565.0000 - val_false_positives: 95.0000 - val_false_negatives: 95.0000\n",
      "Using 115 freezed layers\n",
      "Epoch 1/10\n",
      "55/55 [==============================] - 78s 1s/step - loss: 0.4134 - binary_accuracy: 0.8036 - auc: 0.8902 - true_positives: 2119.0000 - true_negatives: 2119.0000 - false_positives: 518.0000 - false_negatives: 518.0000 - val_loss: 0.3580 - val_binary_accuracy: 0.8576 - val_auc: 0.9348 - val_true_positives: 566.0000 - val_true_negatives: 566.0000 - val_false_positives: 94.0000 - val_false_negatives: 94.0000\n",
      "Epoch 2/10\n",
      "55/55 [==============================] - 71s 1s/step - loss: 0.2760 - binary_accuracy: 0.8821 - auc: 0.9534 - true_positives: 2326.0000 - true_negatives: 2326.0000 - false_positives: 311.0000 - false_negatives: 311.0000 - val_loss: 0.2899 - val_binary_accuracy: 0.8545 - val_auc: 0.9471 - val_true_positives: 564.0000 - val_true_negatives: 564.0000 - val_false_positives: 96.0000 - val_false_negatives: 96.0000\n",
      "Epoch 3/10\n",
      "55/55 [==============================] - 72s 1s/step - loss: 0.2281 - binary_accuracy: 0.8999 - auc: 0.9680 - true_positives: 2373.0000 - true_negatives: 2373.0000 - false_positives: 264.0000 - false_negatives: 264.0000 - val_loss: 0.4003 - val_binary_accuracy: 0.8545 - val_auc: 0.9343 - val_true_positives: 564.0000 - val_true_negatives: 564.0000 - val_false_positives: 96.0000 - val_false_negatives: 96.0000\n",
      "Epoch 4/10\n",
      "55/55 [==============================] - 71s 1s/step - loss: 0.1948 - binary_accuracy: 0.9204 - auc: 0.9766 - true_positives: 2427.0000 - true_negatives: 2427.0000 - false_positives: 210.0000 - false_negatives: 210.0000 - val_loss: 0.3494 - val_binary_accuracy: 0.8379 - val_auc: 0.9332 - val_true_positives: 553.0000 - val_true_negatives: 553.0000 - val_false_positives: 107.0000 - val_false_negatives: 107.0000\n",
      "Epoch 5/10\n",
      "55/55 [==============================] - 71s 1s/step - loss: 0.1762 - binary_accuracy: 0.9283 - auc: 0.9810 - true_positives: 2448.0000 - true_negatives: 2448.0000 - false_positives: 189.0000 - false_negatives: 189.0000 - val_loss: 0.4738 - val_binary_accuracy: 0.8697 - val_auc: 0.9355 - val_true_positives: 574.0000 - val_true_negatives: 574.0000 - val_false_positives: 86.0000 - val_false_negatives: 86.0000\n",
      "Epoch 6/10\n",
      "55/55 [==============================] - 71s 1s/step - loss: 0.1526 - binary_accuracy: 0.9386 - auc: 0.9852 - true_positives: 2475.0000 - true_negatives: 2475.0000 - false_positives: 162.0000 - false_negatives: 162.0000 - val_loss: 0.3597 - val_binary_accuracy: 0.8773 - val_auc: 0.9459 - val_true_positives: 579.0000 - val_true_negatives: 579.0000 - val_false_positives: 81.0000 - val_false_negatives: 81.0000\n",
      "Epoch 7/10\n",
      "55/55 [==============================] - 72s 1s/step - loss: 0.1212 - binary_accuracy: 0.9526 - auc: 0.9908 - true_positives: 2512.0000 - true_negatives: 2512.0000 - false_positives: 125.0000 - false_negatives: 125.0000 - val_loss: 0.3512 - val_binary_accuracy: 0.8652 - val_auc: 0.9451 - val_true_positives: 571.0000 - val_true_negatives: 571.0000 - val_false_positives: 89.0000 - val_false_negatives: 89.0000\n",
      "Epoch 8/10\n",
      "55/55 [==============================] - 71s 1s/step - loss: 0.1114 - binary_accuracy: 0.9579 - auc: 0.9918 - true_positives: 2526.0000 - true_negatives: 2526.0000 - false_positives: 111.0000 - false_negatives: 111.0000 - val_loss: 0.4392 - val_binary_accuracy: 0.8545 - val_auc: 0.9311 - val_true_positives: 564.0000 - val_true_negatives: 564.0000 - val_false_positives: 96.0000 - val_false_negatives: 96.0000\n",
      "Epoch 9/10\n",
      "55/55 [==============================] - 71s 1s/step - loss: 0.1050 - binary_accuracy: 0.9568 - auc: 0.9931 - true_positives: 2523.0000 - true_negatives: 2523.0000 - false_positives: 114.0000 - false_negatives: 114.0000 - val_loss: 0.5941 - val_binary_accuracy: 0.8273 - val_auc: 0.9115 - val_true_positives: 546.0000 - val_true_negatives: 546.0000 - val_false_positives: 114.0000 - val_false_negatives: 114.0000\n",
      "Epoch 10/10\n",
      "55/55 [==============================] - 71s 1s/step - loss: 0.0972 - binary_accuracy: 0.9647 - auc: 0.9936 - true_positives: 2544.0000 - true_negatives: 2544.0000 - false_positives: 93.0000 - false_negatives: 93.0000 - val_loss: 0.5055 - val_binary_accuracy: 0.8803 - val_auc: 0.9338 - val_true_positives: 581.0000 - val_true_negatives: 581.0000 - val_false_positives: 79.0000 - val_false_negatives: 79.0000\n",
      "Using 110 freezed layers\n",
      "Epoch 1/10\n",
      "55/55 [==============================] - 81s 1s/step - loss: 0.4004 - binary_accuracy: 0.8142 - auc: 0.9008 - true_positives: 2147.0000 - true_negatives: 2147.0000 - false_positives: 490.0000 - false_negatives: 490.0000 - val_loss: 0.4133 - val_binary_accuracy: 0.8258 - val_auc: 0.9122 - val_true_positives: 545.0000 - val_true_negatives: 545.0000 - val_false_positives: 115.0000 - val_false_negatives: 115.0000\n",
      "Epoch 2/10\n",
      "55/55 [==============================] - 72s 1s/step - loss: 0.2687 - binary_accuracy: 0.8775 - auc: 0.9554 - true_positives: 2314.0000 - true_negatives: 2314.0000 - false_positives: 323.0000 - false_negatives: 323.0000 - val_loss: 0.3278 - val_binary_accuracy: 0.8545 - val_auc: 0.9376 - val_true_positives: 564.0000 - val_true_negatives: 564.0000 - val_false_positives: 96.0000 - val_false_negatives: 96.0000\n",
      "Epoch 3/10\n",
      "55/55 [==============================] - 72s 1s/step - loss: 0.2152 - binary_accuracy: 0.9116 - auc: 0.9718 - true_positives: 2404.0000 - true_negatives: 2404.0000 - false_positives: 233.0000 - false_negatives: 233.0000 - val_loss: 0.3896 - val_binary_accuracy: 0.8576 - val_auc: 0.9417 - val_true_positives: 566.0000 - val_true_negatives: 566.0000 - val_false_positives: 94.0000 - val_false_negatives: 94.0000\n",
      "Epoch 4/10\n",
      "55/55 [==============================] - 72s 1s/step - loss: 0.1908 - binary_accuracy: 0.9196 - auc: 0.9776 - true_positives: 2425.0000 - true_negatives: 2425.0000 - false_positives: 212.0000 - false_negatives: 212.0000 - val_loss: 0.4079 - val_binary_accuracy: 0.8545 - val_auc: 0.9368 - val_true_positives: 564.0000 - val_true_negatives: 564.0000 - val_false_positives: 96.0000 - val_false_negatives: 96.0000\n",
      "Epoch 5/10\n",
      "55/55 [==============================] - 72s 1s/step - loss: 0.1549 - binary_accuracy: 0.9386 - auc: 0.9847 - true_positives: 2475.0000 - true_negatives: 2475.0000 - false_positives: 162.0000 - false_negatives: 162.0000 - val_loss: 0.3686 - val_binary_accuracy: 0.8697 - val_auc: 0.9474 - val_true_positives: 574.0000 - val_true_negatives: 574.0000 - val_false_positives: 86.0000 - val_false_negatives: 86.0000\n",
      "Epoch 6/10\n",
      "55/55 [==============================] - 72s 1s/step - loss: 0.1404 - binary_accuracy: 0.9443 - auc: 0.9877 - true_positives: 2490.0000 - true_negatives: 2490.0000 - false_positives: 147.0000 - false_negatives: 147.0000 - val_loss: 0.3597 - val_binary_accuracy: 0.8788 - val_auc: 0.9519 - val_true_positives: 580.0000 - val_true_negatives: 580.0000 - val_false_positives: 80.0000 - val_false_negatives: 80.0000\n",
      "Epoch 7/10\n",
      "55/55 [==============================] - 72s 1s/step - loss: 0.1190 - binary_accuracy: 0.9553 - auc: 0.9912 - true_positives: 2519.0000 - true_negatives: 2519.0000 - false_positives: 118.0000 - false_negatives: 118.0000 - val_loss: 0.4714 - val_binary_accuracy: 0.8758 - val_auc: 0.9378 - val_true_positives: 578.0000 - val_true_negatives: 578.0000 - val_false_positives: 82.0000 - val_false_negatives: 82.0000\n",
      "Epoch 8/10\n",
      "55/55 [==============================] - 72s 1s/step - loss: 0.0930 - binary_accuracy: 0.9685 - auc: 0.9934 - true_positives: 2554.0000 - true_negatives: 2554.0000 - false_positives: 83.0000 - false_negatives: 83.0000 - val_loss: 0.3623 - val_binary_accuracy: 0.8712 - val_auc: 0.9446 - val_true_positives: 575.0000 - val_true_negatives: 575.0000 - val_false_positives: 85.0000 - val_false_negatives: 85.0000\n",
      "Epoch 9/10\n",
      "55/55 [==============================] - 72s 1s/step - loss: 0.0888 - binary_accuracy: 0.9659 - auc: 0.9951 - true_positives: 2547.0000 - true_negatives: 2547.0000 - false_positives: 90.0000 - false_negatives: 90.0000 - val_loss: 0.4131 - val_binary_accuracy: 0.8606 - val_auc: 0.9391 - val_true_positives: 568.0000 - val_true_negatives: 568.0000 - val_false_positives: 92.0000 - val_false_negatives: 92.0000\n",
      "Epoch 10/10\n",
      "55/55 [==============================] - 72s 1s/step - loss: 0.0680 - binary_accuracy: 0.9754 - auc: 0.9967 - true_positives: 2572.0000 - true_negatives: 2572.0000 - false_positives: 65.0000 - false_negatives: 65.0000 - val_loss: 0.4091 - val_binary_accuracy: 0.8667 - val_auc: 0.9459 - val_true_positives: 572.0000 - val_true_negatives: 572.0000 - val_false_positives: 88.0000 - val_false_negatives: 88.0000\n",
      "Using 105 freezed layers\n",
      "Epoch 1/10\n",
      "55/55 [==============================] - 81s 1s/step - loss: 0.4082 - binary_accuracy: 0.8134 - auc: 0.8967 - true_positives: 2145.0000 - true_negatives: 2145.0000 - false_positives: 492.0000 - false_negatives: 492.0000 - val_loss: 0.4456 - val_binary_accuracy: 0.8182 - val_auc: 0.9211 - val_true_positives: 540.0000 - val_true_negatives: 540.0000 - val_false_positives: 120.0000 - val_false_negatives: 120.0000\n",
      "Epoch 2/10\n",
      "55/55 [==============================] - 73s 1s/step - loss: 0.2793 - binary_accuracy: 0.8692 - auc: 0.9529 - true_positives: 2292.0000 - true_negatives: 2292.0000 - false_positives: 345.0000 - false_negatives: 345.0000 - val_loss: 0.3837 - val_binary_accuracy: 0.8076 - val_auc: 0.9139 - val_true_positives: 533.0000 - val_true_negatives: 533.0000 - val_false_positives: 127.0000 - val_false_negatives: 127.0000\n",
      "Epoch 3/10\n",
      "55/55 [==============================] - 72s 1s/step - loss: 0.2339 - binary_accuracy: 0.8972 - auc: 0.9667 - true_positives: 2366.0000 - true_negatives: 2366.0000 - false_positives: 271.0000 - false_negatives: 271.0000 - val_loss: 0.3449 - val_binary_accuracy: 0.8621 - val_auc: 0.9416 - val_true_positives: 569.0000 - val_true_negatives: 569.0000 - val_false_positives: 91.0000 - val_false_negatives: 91.0000\n",
      "Epoch 4/10\n",
      "55/55 [==============================] - 72s 1s/step - loss: 0.1981 - binary_accuracy: 0.9143 - auc: 0.9759 - true_positives: 2411.0000 - true_negatives: 2411.0000 - false_positives: 226.0000 - false_negatives: 226.0000 - val_loss: 0.3623 - val_binary_accuracy: 0.8530 - val_auc: 0.9347 - val_true_positives: 563.0000 - val_true_negatives: 563.0000 - val_false_positives: 97.0000 - val_false_negatives: 97.0000\n",
      "Epoch 5/10\n",
      "55/55 [==============================] - 72s 1s/step - loss: 0.1554 - binary_accuracy: 0.9325 - auc: 0.9852 - true_positives: 2459.0000 - true_negatives: 2459.0000 - false_positives: 178.0000 - false_negatives: 178.0000 - val_loss: 0.4506 - val_binary_accuracy: 0.8576 - val_auc: 0.9344 - val_true_positives: 566.0000 - val_true_negatives: 566.0000 - val_false_positives: 94.0000 - val_false_negatives: 94.0000\n",
      "Epoch 6/10\n",
      "55/55 [==============================] - 72s 1s/step - loss: 0.1448 - binary_accuracy: 0.9431 - auc: 0.9870 - true_positives: 2487.0000 - true_negatives: 2487.0000 - false_positives: 150.0000 - false_negatives: 150.0000 - val_loss: 0.3784 - val_binary_accuracy: 0.8394 - val_auc: 0.9361 - val_true_positives: 554.0000 - val_true_negatives: 554.0000 - val_false_positives: 106.0000 - val_false_negatives: 106.0000\n",
      "Epoch 7/10\n",
      "55/55 [==============================] - 73s 1s/step - loss: 0.1152 - binary_accuracy: 0.9522 - auc: 0.9916 - true_positives: 2511.0000 - true_negatives: 2511.0000 - false_positives: 126.0000 - false_negatives: 126.0000 - val_loss: 0.4687 - val_binary_accuracy: 0.8667 - val_auc: 0.9337 - val_true_positives: 572.0000 - val_true_negatives: 572.0000 - val_false_positives: 88.0000 - val_false_negatives: 88.0000\n",
      "Epoch 8/10\n",
      "55/55 [==============================] - 73s 1s/step - loss: 0.1066 - binary_accuracy: 0.9590 - auc: 0.9922 - true_positives: 2529.0000 - true_negatives: 2529.0000 - false_positives: 108.0000 - false_negatives: 108.0000 - val_loss: 0.4405 - val_binary_accuracy: 0.8636 - val_auc: 0.9371 - val_true_positives: 570.0000 - val_true_negatives: 570.0000 - val_false_positives: 90.0000 - val_false_negatives: 90.0000\n",
      "Epoch 9/10\n",
      "55/55 [==============================] - 75s 1s/step - loss: 0.0967 - binary_accuracy: 0.9659 - auc: 0.9938 - true_positives: 2547.0000 - true_negatives: 2547.0000 - false_positives: 90.0000 - false_negatives: 90.0000 - val_loss: 0.3709 - val_binary_accuracy: 0.8773 - val_auc: 0.9522 - val_true_positives: 579.0000 - val_true_negatives: 579.0000 - val_false_positives: 81.0000 - val_false_negatives: 81.0000\n",
      "Epoch 10/10\n",
      "55/55 [==============================] - 73s 1s/step - loss: 0.0647 - binary_accuracy: 0.9757 - auc: 0.9972 - true_positives: 2573.0000 - true_negatives: 2573.0000 - false_positives: 64.0000 - false_negatives: 64.0000 - val_loss: 0.5026 - val_binary_accuracy: 0.8742 - val_auc: 0.9362 - val_true_positives: 577.0000 - val_true_negatives: 577.0000 - val_false_positives: 83.0000 - val_false_negatives: 83.0000\n",
      "Using 100 freezed layers\n",
      "Epoch 1/10\n",
      "55/55 [==============================] - 83s 1s/step - loss: 0.4034 - binary_accuracy: 0.8130 - auc: 0.8987 - true_positives: 2144.0000 - true_negatives: 2144.0000 - false_positives: 493.0000 - false_negatives: 493.0000 - val_loss: 0.3151 - val_binary_accuracy: 0.8485 - val_auc: 0.9395 - val_true_positives: 560.0000 - val_true_negatives: 560.0000 - val_false_positives: 100.0000 - val_false_negatives: 100.0000\n",
      "Epoch 2/10\n",
      "55/55 [==============================] - 74s 1s/step - loss: 0.2678 - binary_accuracy: 0.8794 - auc: 0.9557 - true_positives: 2319.0000 - true_negatives: 2319.0000 - false_positives: 318.0000 - false_negatives: 318.0000 - val_loss: 0.5721 - val_binary_accuracy: 0.8455 - val_auc: 0.9192 - val_true_positives: 558.0000 - val_true_negatives: 558.0000 - val_false_positives: 102.0000 - val_false_negatives: 102.0000\n",
      "Epoch 3/10\n",
      "55/55 [==============================] - 74s 1s/step - loss: 0.2316 - binary_accuracy: 0.8984 - auc: 0.9672 - true_positives: 2369.0000 - true_negatives: 2369.0000 - false_positives: 268.0000 - false_negatives: 268.0000 - val_loss: 0.3593 - val_binary_accuracy: 0.8803 - val_auc: 0.9422 - val_true_positives: 581.0000 - val_true_negatives: 581.0000 - val_false_positives: 79.0000 - val_false_negatives: 79.0000\n",
      "Epoch 4/10\n",
      "55/55 [==============================] - 74s 1s/step - loss: 0.1882 - binary_accuracy: 0.9162 - auc: 0.9783 - true_positives: 2416.0000 - true_negatives: 2416.0000 - false_positives: 221.0000 - false_negatives: 221.0000 - val_loss: 0.4133 - val_binary_accuracy: 0.8773 - val_auc: 0.9403 - val_true_positives: 579.0000 - val_true_negatives: 579.0000 - val_false_positives: 81.0000 - val_false_negatives: 81.0000\n",
      "Epoch 5/10\n",
      "55/55 [==============================] - 73s 1s/step - loss: 0.1587 - binary_accuracy: 0.9359 - auc: 0.9844 - true_positives: 2468.0000 - true_negatives: 2468.0000 - false_positives: 169.0000 - false_negatives: 169.0000 - val_loss: 0.3485 - val_binary_accuracy: 0.8712 - val_auc: 0.9457 - val_true_positives: 575.0000 - val_true_negatives: 575.0000 - val_false_positives: 85.0000 - val_false_negatives: 85.0000\n",
      "Epoch 6/10\n",
      "55/55 [==============================] - 73s 1s/step - loss: 0.1532 - binary_accuracy: 0.9363 - auc: 0.9857 - true_positives: 2469.0000 - true_negatives: 2469.0000 - false_positives: 168.0000 - false_negatives: 168.0000 - val_loss: 0.3320 - val_binary_accuracy: 0.8758 - val_auc: 0.9539 - val_true_positives: 578.0000 - val_true_negatives: 578.0000 - val_false_positives: 82.0000 - val_false_negatives: 82.0000\n",
      "Epoch 7/10\n",
      "55/55 [==============================] - 73s 1s/step - loss: 0.1076 - binary_accuracy: 0.9568 - auc: 0.9922 - true_positives: 2523.0000 - true_negatives: 2523.0000 - false_positives: 114.0000 - false_negatives: 114.0000 - val_loss: 0.2873 - val_binary_accuracy: 0.8818 - val_auc: 0.9547 - val_true_positives: 582.0000 - val_true_negatives: 582.0000 - val_false_positives: 78.0000 - val_false_negatives: 78.0000\n",
      "Epoch 8/10\n",
      "55/55 [==============================] - 73s 1s/step - loss: 0.1059 - binary_accuracy: 0.9602 - auc: 0.9933 - true_positives: 2532.0000 - true_negatives: 2532.0000 - false_positives: 105.0000 - false_negatives: 105.0000 - val_loss: 0.5165 - val_binary_accuracy: 0.8636 - val_auc: 0.9328 - val_true_positives: 570.0000 - val_true_negatives: 570.0000 - val_false_positives: 90.0000 - val_false_negatives: 90.0000\n",
      "Epoch 9/10\n",
      "55/55 [==============================] - 73s 1s/step - loss: 0.0846 - binary_accuracy: 0.9712 - auc: 0.9950 - true_positives: 2561.0000 - true_negatives: 2561.0000 - false_positives: 76.0000 - false_negatives: 76.0000 - val_loss: 0.4861 - val_binary_accuracy: 0.8803 - val_auc: 0.9435 - val_true_positives: 581.0000 - val_true_negatives: 581.0000 - val_false_positives: 79.0000 - val_false_negatives: 79.0000\n",
      "Epoch 10/10\n",
      "55/55 [==============================] - 73s 1s/step - loss: 0.0659 - binary_accuracy: 0.9761 - auc: 0.9970 - true_positives: 2574.0000 - true_negatives: 2574.0000 - false_positives: 63.0000 - false_negatives: 63.0000 - val_loss: 0.4876 - val_binary_accuracy: 0.8667 - val_auc: 0.9331 - val_true_positives: 572.0000 - val_true_negatives: 572.0000 - val_false_positives: 88.0000 - val_false_negatives: 88.0000\n",
      "Using 95 freezed layers\n",
      "Epoch 1/10\n",
      "55/55 [==============================] - 84s 1s/step - loss: 0.4059 - binary_accuracy: 0.8074 - auc: 0.8959 - true_positives: 2129.0000 - true_negatives: 2129.0000 - false_positives: 508.0000 - false_negatives: 508.0000 - val_loss: 1.2453 - val_binary_accuracy: 0.7712 - val_auc: 0.8395 - val_true_positives: 509.0000 - val_true_negatives: 509.0000 - val_false_positives: 151.0000 - val_false_negatives: 151.0000\n",
      "Epoch 2/10\n",
      "55/55 [==============================] - 73s 1s/step - loss: 0.2811 - binary_accuracy: 0.8783 - auc: 0.9523 - true_positives: 2316.0000 - true_negatives: 2316.0000 - false_positives: 321.0000 - false_negatives: 321.0000 - val_loss: 0.4255 - val_binary_accuracy: 0.8167 - val_auc: 0.9104 - val_true_positives: 539.0000 - val_true_negatives: 539.0000 - val_false_positives: 121.0000 - val_false_negatives: 121.0000\n",
      "Epoch 3/10\n",
      "55/55 [==============================] - 73s 1s/step - loss: 0.2312 - binary_accuracy: 0.8984 - auc: 0.9676 - true_positives: 2369.0000 - true_negatives: 2369.0000 - false_positives: 268.0000 - false_negatives: 268.0000 - val_loss: 0.3610 - val_binary_accuracy: 0.8485 - val_auc: 0.9334 - val_true_positives: 560.0000 - val_true_negatives: 560.0000 - val_false_positives: 100.0000 - val_false_negatives: 100.0000\n",
      "Epoch 4/10\n",
      "55/55 [==============================] - 74s 1s/step - loss: 0.2095 - binary_accuracy: 0.9109 - auc: 0.9737 - true_positives: 2402.0000 - true_negatives: 2402.0000 - false_positives: 235.0000 - false_negatives: 235.0000 - val_loss: 0.3300 - val_binary_accuracy: 0.8758 - val_auc: 0.9452 - val_true_positives: 578.0000 - val_true_negatives: 578.0000 - val_false_positives: 82.0000 - val_false_negatives: 82.0000\n",
      "Epoch 5/10\n",
      "55/55 [==============================] - 74s 1s/step - loss: 0.1670 - binary_accuracy: 0.9295 - auc: 0.9829 - true_positives: 2451.0000 - true_negatives: 2451.0000 - false_positives: 186.0000 - false_negatives: 186.0000 - val_loss: 0.4470 - val_binary_accuracy: 0.8621 - val_auc: 0.9344 - val_true_positives: 569.0000 - val_true_negatives: 569.0000 - val_false_positives: 91.0000 - val_false_negatives: 91.0000\n",
      "Epoch 6/10\n",
      "55/55 [==============================] - 74s 1s/step - loss: 0.1385 - binary_accuracy: 0.9397 - auc: 0.9881 - true_positives: 2478.0000 - true_negatives: 2478.0000 - false_positives: 159.0000 - false_negatives: 159.0000 - val_loss: 0.7493 - val_binary_accuracy: 0.8242 - val_auc: 0.8860 - val_true_positives: 544.0000 - val_true_negatives: 544.0000 - val_false_positives: 116.0000 - val_false_negatives: 116.0000\n",
      "Epoch 7/10\n",
      "55/55 [==============================] - 74s 1s/step - loss: 0.1095 - binary_accuracy: 0.9560 - auc: 0.9922 - true_positives: 2521.0000 - true_negatives: 2521.0000 - false_positives: 116.0000 - false_negatives: 116.0000 - val_loss: 0.3944 - val_binary_accuracy: 0.8591 - val_auc: 0.9395 - val_true_positives: 567.0000 - val_true_negatives: 567.0000 - val_false_positives: 93.0000 - val_false_negatives: 93.0000\n",
      "Epoch 8/10\n",
      "55/55 [==============================] - 73s 1s/step - loss: 0.0994 - binary_accuracy: 0.9655 - auc: 0.9933 - true_positives: 2546.0000 - true_negatives: 2546.0000 - false_positives: 91.0000 - false_negatives: 91.0000 - val_loss: 0.4992 - val_binary_accuracy: 0.8379 - val_auc: 0.9217 - val_true_positives: 553.0000 - val_true_negatives: 553.0000 - val_false_positives: 107.0000 - val_false_negatives: 107.0000\n",
      "Epoch 9/10\n",
      "55/55 [==============================] - 73s 1s/step - loss: 0.0779 - binary_accuracy: 0.9746 - auc: 0.9961 - true_positives: 2570.0000 - true_negatives: 2570.0000 - false_positives: 67.0000 - false_negatives: 67.0000 - val_loss: 0.5320 - val_binary_accuracy: 0.8470 - val_auc: 0.9240 - val_true_positives: 559.0000 - val_true_negatives: 559.0000 - val_false_positives: 101.0000 - val_false_negatives: 101.0000\n",
      "Epoch 10/10\n",
      "55/55 [==============================] - 74s 1s/step - loss: 0.0742 - binary_accuracy: 0.9723 - auc: 0.9961 - true_positives: 2564.0000 - true_negatives: 2564.0000 - false_positives: 73.0000 - false_negatives: 73.0000 - val_loss: 0.5180 - val_binary_accuracy: 0.8394 - val_auc: 0.9225 - val_true_positives: 554.0000 - val_true_negatives: 554.0000 - val_false_positives: 106.0000 - val_false_negatives: 106.0000\n",
      "Using 90 freezed layers\n",
      "Epoch 1/10\n",
      "55/55 [==============================] - 86s 1s/step - loss: 0.4071 - binary_accuracy: 0.8180 - auc: 0.8987 - true_positives: 2157.0000 - true_negatives: 2157.0000 - false_positives: 480.0000 - false_negatives: 480.0000 - val_loss: 1.0556 - val_binary_accuracy: 0.7500 - val_auc: 0.8322 - val_true_positives: 495.0000 - val_true_negatives: 495.0000 - val_false_positives: 165.0000 - val_false_negatives: 165.0000\n",
      "Epoch 2/10\n",
      "55/55 [==============================] - 75s 1s/step - loss: 0.3008 - binary_accuracy: 0.8601 - auc: 0.9451 - true_positives: 2268.0000 - true_negatives: 2268.0000 - false_positives: 369.0000 - false_negatives: 369.0000 - val_loss: 0.3271 - val_binary_accuracy: 0.8530 - val_auc: 0.9396 - val_true_positives: 563.0000 - val_true_negatives: 563.0000 - val_false_positives: 97.0000 - val_false_negatives: 97.0000\n",
      "Epoch 3/10\n",
      "55/55 [==============================] - 75s 1s/step - loss: 0.2457 - binary_accuracy: 0.8866 - auc: 0.9625 - true_positives: 2338.0000 - true_negatives: 2338.0000 - false_positives: 299.0000 - false_negatives: 299.0000 - val_loss: 0.3382 - val_binary_accuracy: 0.8576 - val_auc: 0.9428 - val_true_positives: 566.0000 - val_true_negatives: 566.0000 - val_false_positives: 94.0000 - val_false_negatives: 94.0000\n",
      "Epoch 4/10\n",
      "55/55 [==============================] - 74s 1s/step - loss: 0.1931 - binary_accuracy: 0.9185 - auc: 0.9773 - true_positives: 2422.0000 - true_negatives: 2422.0000 - false_positives: 215.0000 - false_negatives: 215.0000 - val_loss: 0.3186 - val_binary_accuracy: 0.8606 - val_auc: 0.9455 - val_true_positives: 568.0000 - val_true_negatives: 568.0000 - val_false_positives: 92.0000 - val_false_negatives: 92.0000\n",
      "Epoch 5/10\n",
      "55/55 [==============================] - 75s 1s/step - loss: 0.1766 - binary_accuracy: 0.9226 - auc: 0.9808 - true_positives: 2433.0000 - true_negatives: 2433.0000 - false_positives: 204.0000 - false_negatives: 204.0000 - val_loss: 0.4151 - val_binary_accuracy: 0.8455 - val_auc: 0.9343 - val_true_positives: 558.0000 - val_true_negatives: 558.0000 - val_false_positives: 102.0000 - val_false_negatives: 102.0000\n",
      "Epoch 6/10\n",
      "55/55 [==============================] - 75s 1s/step - loss: 0.1457 - binary_accuracy: 0.9450 - auc: 0.9867 - true_positives: 2492.0000 - true_negatives: 2492.0000 - false_positives: 145.0000 - false_negatives: 145.0000 - val_loss: 0.4926 - val_binary_accuracy: 0.8470 - val_auc: 0.9228 - val_true_positives: 559.0000 - val_true_negatives: 559.0000 - val_false_positives: 101.0000 - val_false_negatives: 101.0000\n",
      "Epoch 7/10\n",
      "55/55 [==============================] - 74s 1s/step - loss: 0.1266 - binary_accuracy: 0.9473 - auc: 0.9899 - true_positives: 2498.0000 - true_negatives: 2498.0000 - false_positives: 139.0000 - false_negatives: 139.0000 - val_loss: 0.3118 - val_binary_accuracy: 0.8697 - val_auc: 0.9510 - val_true_positives: 574.0000 - val_true_negatives: 574.0000 - val_false_positives: 86.0000 - val_false_negatives: 86.0000\n",
      "Epoch 8/10\n",
      "55/55 [==============================] - 74s 1s/step - loss: 0.0887 - binary_accuracy: 0.9674 - auc: 0.9950 - true_positives: 2551.0000 - true_negatives: 2551.0000 - false_positives: 86.0000 - false_negatives: 86.0000 - val_loss: 0.4399 - val_binary_accuracy: 0.8621 - val_auc: 0.9364 - val_true_positives: 569.0000 - val_true_negatives: 569.0000 - val_false_positives: 91.0000 - val_false_negatives: 91.0000\n",
      "Epoch 9/10\n",
      "55/55 [==============================] - 74s 1s/step - loss: 0.1184 - binary_accuracy: 0.9587 - auc: 0.9908 - true_positives: 2528.0000 - true_negatives: 2528.0000 - false_positives: 109.0000 - false_negatives: 109.0000 - val_loss: 0.5814 - val_binary_accuracy: 0.8212 - val_auc: 0.9118 - val_true_positives: 542.0000 - val_true_negatives: 542.0000 - val_false_positives: 118.0000 - val_false_negatives: 118.0000\n",
      "Epoch 10/10\n",
      "55/55 [==============================] - 74s 1s/step - loss: 0.0669 - binary_accuracy: 0.9776 - auc: 0.9965 - true_positives: 2578.0000 - true_negatives: 2578.0000 - false_positives: 59.0000 - false_negatives: 59.0000 - val_loss: 0.4178 - val_binary_accuracy: 0.8818 - val_auc: 0.9492 - val_true_positives: 582.0000 - val_true_negatives: 582.0000 - val_false_positives: 78.0000 - val_false_negatives: 78.0000\n",
      "Using 85 freezed layers\n",
      "Epoch 1/10\n",
      "55/55 [==============================] - 85s 1s/step - loss: 0.4102 - binary_accuracy: 0.8146 - auc: 0.8953 - true_positives: 2148.0000 - true_negatives: 2148.0000 - false_positives: 489.0000 - false_negatives: 489.0000 - val_loss: 0.5644 - val_binary_accuracy: 0.8061 - val_auc: 0.8875 - val_true_positives: 532.0000 - val_true_negatives: 532.0000 - val_false_positives: 128.0000 - val_false_negatives: 128.0000\n",
      "Epoch 2/10\n",
      "55/55 [==============================] - 74s 1s/step - loss: 0.2988 - binary_accuracy: 0.8658 - auc: 0.9460 - true_positives: 2283.0000 - true_negatives: 2283.0000 - false_positives: 354.0000 - false_negatives: 354.0000 - val_loss: 0.5873 - val_binary_accuracy: 0.8379 - val_auc: 0.9071 - val_true_positives: 553.0000 - val_true_negatives: 553.0000 - val_false_positives: 107.0000 - val_false_negatives: 107.0000\n",
      "Epoch 3/10\n",
      "55/55 [==============================] - 75s 1s/step - loss: 0.2225 - binary_accuracy: 0.8976 - auc: 0.9698 - true_positives: 2367.0000 - true_negatives: 2367.0000 - false_positives: 270.0000 - false_negatives: 270.0000 - val_loss: 0.3632 - val_binary_accuracy: 0.8621 - val_auc: 0.9361 - val_true_positives: 569.0000 - val_true_negatives: 569.0000 - val_false_positives: 91.0000 - val_false_negatives: 91.0000\n",
      "Epoch 4/10\n",
      "55/55 [==============================] - 75s 1s/step - loss: 0.2047 - binary_accuracy: 0.9116 - auc: 0.9743 - true_positives: 2404.0000 - true_negatives: 2404.0000 - false_positives: 233.0000 - false_negatives: 233.0000 - val_loss: 0.3346 - val_binary_accuracy: 0.8758 - val_auc: 0.9488 - val_true_positives: 578.0000 - val_true_negatives: 578.0000 - val_false_positives: 82.0000 - val_false_negatives: 82.0000\n",
      "Epoch 5/10\n",
      "55/55 [==============================] - 74s 1s/step - loss: 0.1974 - binary_accuracy: 0.9124 - auc: 0.9761 - true_positives: 2406.0000 - true_negatives: 2406.0000 - false_positives: 231.0000 - false_negatives: 231.0000 - val_loss: 0.3371 - val_binary_accuracy: 0.8545 - val_auc: 0.9371 - val_true_positives: 564.0000 - val_true_negatives: 564.0000 - val_false_positives: 96.0000 - val_false_negatives: 96.0000\n",
      "Epoch 6/10\n",
      "55/55 [==============================] - 79s 1s/step - loss: 0.1521 - binary_accuracy: 0.9378 - auc: 0.9858 - true_positives: 2473.0000 - true_negatives: 2473.0000 - false_positives: 164.0000 - false_negatives: 164.0000 - val_loss: 0.3658 - val_binary_accuracy: 0.8424 - val_auc: 0.9361 - val_true_positives: 556.0000 - val_true_negatives: 556.0000 - val_false_positives: 104.0000 - val_false_negatives: 104.0000\n",
      "Epoch 7/10\n",
      "55/55 [==============================] - 75s 1s/step - loss: 0.1322 - binary_accuracy: 0.9443 - auc: 0.9894 - true_positives: 2490.0000 - true_negatives: 2490.0000 - false_positives: 147.0000 - false_negatives: 147.0000 - val_loss: 0.4226 - val_binary_accuracy: 0.8576 - val_auc: 0.9320 - val_true_positives: 566.0000 - val_true_negatives: 566.0000 - val_false_positives: 94.0000 - val_false_negatives: 94.0000\n",
      "Epoch 8/10\n",
      "55/55 [==============================] - 75s 1s/step - loss: 0.1157 - binary_accuracy: 0.9549 - auc: 0.9909 - true_positives: 2518.0000 - true_negatives: 2518.0000 - false_positives: 119.0000 - false_negatives: 119.0000 - val_loss: 0.4602 - val_binary_accuracy: 0.8591 - val_auc: 0.9349 - val_true_positives: 567.0000 - val_true_negatives: 567.0000 - val_false_positives: 93.0000 - val_false_negatives: 93.0000\n",
      "Epoch 9/10\n",
      "55/55 [==============================] - 75s 1s/step - loss: 0.0736 - binary_accuracy: 0.9708 - auc: 0.9961 - true_positives: 2560.0000 - true_negatives: 2560.0000 - false_positives: 77.0000 - false_negatives: 77.0000 - val_loss: 0.7001 - val_binary_accuracy: 0.8545 - val_auc: 0.9130 - val_true_positives: 564.0000 - val_true_negatives: 564.0000 - val_false_positives: 96.0000 - val_false_negatives: 96.0000\n",
      "Epoch 10/10\n",
      "55/55 [==============================] - 75s 1s/step - loss: 0.0784 - binary_accuracy: 0.9670 - auc: 0.9959 - true_positives: 2550.0000 - true_negatives: 2550.0000 - false_positives: 87.0000 - false_negatives: 87.0000 - val_loss: 0.4120 - val_binary_accuracy: 0.8682 - val_auc: 0.9409 - val_true_positives: 573.0000 - val_true_negatives: 573.0000 - val_false_positives: 87.0000 - val_false_negatives: 87.0000\n"
     ]
    }
   ],
   "source": [
    "for i in range(130,84,-5):\n",
    "    print(f\"Using {i} freezed layers\")\n",
    "    freezedLayers = i\n",
    "    finalModel = getFinalModel(getBaseModel(freezedLayers))\n",
    "    finalModel.compile(\n",
    "        loss='categorical_crossentropy',\n",
    "        optimizer='adam',\n",
    "        metrics=[\n",
    "            'binary_accuracy', \n",
    "            'AUC',\n",
    "            tf.keras.metrics.TruePositives(name='true_positives'),\n",
    "            tf.keras.metrics.TrueNegatives(name='true_negatives'),\n",
    "            tf.keras.metrics.FalsePositives(name='false_positives'),\n",
    "            tf.keras.metrics.FalseNegatives(name='false_negatives'),\n",
    "        ]\n",
    "    )\n",
    "    trainedModel = finalModel.fit_generator(\n",
    "        trainData,\n",
    "        validation_data=testData,\n",
    "        epochs=10,\n",
    "    )\n",
    "    saveHistoryFile(freezedLayers,trainedModel)"
   ]
  },
  {
   "attachments": {},
   "cell_type": "markdown",
   "id": "804edc11",
   "metadata": {},
   "source": []
  },
  {
   "attachments": {},
   "cell_type": "markdown",
   "id": "5439c587",
   "metadata": {},
   "source": [
    "# Visualizing the Findings\n",
    "\n",
    "Firstly, we will be loading the data from the csv file into a DataFrame."
   ]
  },
  {
   "cell_type": "code",
   "execution_count": 3,
   "id": "7ed624f3",
   "metadata": {},
   "outputs": [],
   "source": [
    "def getData():\n",
    "    df = pd.read_csv('./all.csv')\n",
    "    df['Trainable Layers'] = 132 - df['freezed_layer']\n",
    "    return df"
   ]
  },
  {
   "attachments": {},
   "cell_type": "markdown",
   "id": "e3264531",
   "metadata": {},
   "source": [
    "Plotting the Validation loss vs freezed layers. We observe that as we increase the amount of freezed layers, the loss also increases."
   ]
  },
  {
   "cell_type": "code",
   "execution_count": 16,
   "id": "bb47032b",
   "metadata": {},
   "outputs": [
    {
     "data": {
      "application/vnd.plotly.v1+json": {
       "config": {
        "plotlyServerURL": "https://plot.ly"
       },
       "data": [
        {
         "hovertemplate": "freezed_layer=%{x}<br>val_loss=%{y}<extra></extra>",
         "legendgroup": "",
         "line": {
          "color": "#636efa",
          "dash": "solid"
         },
         "marker": {
          "symbol": "circle"
         },
         "mode": "lines",
         "name": "",
         "orientation": "v",
         "showlegend": false,
         "type": "scatter",
         "x": [
          85,
          90,
          95,
          100,
          105,
          110,
          115,
          120,
          125,
          130
         ],
         "xaxis": "x",
         "y": [
          0.4120431542396545,
          0.4178371429443359,
          0.518042802810669,
          0.4875911474227905,
          0.5025548934936523,
          0.4091129601001739,
          0.5055104494094849,
          0.3555457293987274,
          0.4809634983539581,
          0.3697701394557953
         ],
         "yaxis": "y"
        }
       ],
       "layout": {
        "legend": {
         "tracegroupgap": 0
        },
        "template": {
         "data": {
          "bar": [
           {
            "error_x": {
             "color": "#2a3f5f"
            },
            "error_y": {
             "color": "#2a3f5f"
            },
            "marker": {
             "line": {
              "color": "#E5ECF6",
              "width": 0.5
             },
             "pattern": {
              "fillmode": "overlay",
              "size": 10,
              "solidity": 0.2
             }
            },
            "type": "bar"
           }
          ],
          "barpolar": [
           {
            "marker": {
             "line": {
              "color": "#E5ECF6",
              "width": 0.5
             },
             "pattern": {
              "fillmode": "overlay",
              "size": 10,
              "solidity": 0.2
             }
            },
            "type": "barpolar"
           }
          ],
          "carpet": [
           {
            "aaxis": {
             "endlinecolor": "#2a3f5f",
             "gridcolor": "white",
             "linecolor": "white",
             "minorgridcolor": "white",
             "startlinecolor": "#2a3f5f"
            },
            "baxis": {
             "endlinecolor": "#2a3f5f",
             "gridcolor": "white",
             "linecolor": "white",
             "minorgridcolor": "white",
             "startlinecolor": "#2a3f5f"
            },
            "type": "carpet"
           }
          ],
          "choropleth": [
           {
            "colorbar": {
             "outlinewidth": 0,
             "ticks": ""
            },
            "type": "choropleth"
           }
          ],
          "contour": [
           {
            "colorbar": {
             "outlinewidth": 0,
             "ticks": ""
            },
            "colorscale": [
             [
              0,
              "#0d0887"
             ],
             [
              0.1111111111111111,
              "#46039f"
             ],
             [
              0.2222222222222222,
              "#7201a8"
             ],
             [
              0.3333333333333333,
              "#9c179e"
             ],
             [
              0.4444444444444444,
              "#bd3786"
             ],
             [
              0.5555555555555556,
              "#d8576b"
             ],
             [
              0.6666666666666666,
              "#ed7953"
             ],
             [
              0.7777777777777778,
              "#fb9f3a"
             ],
             [
              0.8888888888888888,
              "#fdca26"
             ],
             [
              1,
              "#f0f921"
             ]
            ],
            "type": "contour"
           }
          ],
          "contourcarpet": [
           {
            "colorbar": {
             "outlinewidth": 0,
             "ticks": ""
            },
            "type": "contourcarpet"
           }
          ],
          "heatmap": [
           {
            "colorbar": {
             "outlinewidth": 0,
             "ticks": ""
            },
            "colorscale": [
             [
              0,
              "#0d0887"
             ],
             [
              0.1111111111111111,
              "#46039f"
             ],
             [
              0.2222222222222222,
              "#7201a8"
             ],
             [
              0.3333333333333333,
              "#9c179e"
             ],
             [
              0.4444444444444444,
              "#bd3786"
             ],
             [
              0.5555555555555556,
              "#d8576b"
             ],
             [
              0.6666666666666666,
              "#ed7953"
             ],
             [
              0.7777777777777778,
              "#fb9f3a"
             ],
             [
              0.8888888888888888,
              "#fdca26"
             ],
             [
              1,
              "#f0f921"
             ]
            ],
            "type": "heatmap"
           }
          ],
          "heatmapgl": [
           {
            "colorbar": {
             "outlinewidth": 0,
             "ticks": ""
            },
            "colorscale": [
             [
              0,
              "#0d0887"
             ],
             [
              0.1111111111111111,
              "#46039f"
             ],
             [
              0.2222222222222222,
              "#7201a8"
             ],
             [
              0.3333333333333333,
              "#9c179e"
             ],
             [
              0.4444444444444444,
              "#bd3786"
             ],
             [
              0.5555555555555556,
              "#d8576b"
             ],
             [
              0.6666666666666666,
              "#ed7953"
             ],
             [
              0.7777777777777778,
              "#fb9f3a"
             ],
             [
              0.8888888888888888,
              "#fdca26"
             ],
             [
              1,
              "#f0f921"
             ]
            ],
            "type": "heatmapgl"
           }
          ],
          "histogram": [
           {
            "marker": {
             "pattern": {
              "fillmode": "overlay",
              "size": 10,
              "solidity": 0.2
             }
            },
            "type": "histogram"
           }
          ],
          "histogram2d": [
           {
            "colorbar": {
             "outlinewidth": 0,
             "ticks": ""
            },
            "colorscale": [
             [
              0,
              "#0d0887"
             ],
             [
              0.1111111111111111,
              "#46039f"
             ],
             [
              0.2222222222222222,
              "#7201a8"
             ],
             [
              0.3333333333333333,
              "#9c179e"
             ],
             [
              0.4444444444444444,
              "#bd3786"
             ],
             [
              0.5555555555555556,
              "#d8576b"
             ],
             [
              0.6666666666666666,
              "#ed7953"
             ],
             [
              0.7777777777777778,
              "#fb9f3a"
             ],
             [
              0.8888888888888888,
              "#fdca26"
             ],
             [
              1,
              "#f0f921"
             ]
            ],
            "type": "histogram2d"
           }
          ],
          "histogram2dcontour": [
           {
            "colorbar": {
             "outlinewidth": 0,
             "ticks": ""
            },
            "colorscale": [
             [
              0,
              "#0d0887"
             ],
             [
              0.1111111111111111,
              "#46039f"
             ],
             [
              0.2222222222222222,
              "#7201a8"
             ],
             [
              0.3333333333333333,
              "#9c179e"
             ],
             [
              0.4444444444444444,
              "#bd3786"
             ],
             [
              0.5555555555555556,
              "#d8576b"
             ],
             [
              0.6666666666666666,
              "#ed7953"
             ],
             [
              0.7777777777777778,
              "#fb9f3a"
             ],
             [
              0.8888888888888888,
              "#fdca26"
             ],
             [
              1,
              "#f0f921"
             ]
            ],
            "type": "histogram2dcontour"
           }
          ],
          "mesh3d": [
           {
            "colorbar": {
             "outlinewidth": 0,
             "ticks": ""
            },
            "type": "mesh3d"
           }
          ],
          "parcoords": [
           {
            "line": {
             "colorbar": {
              "outlinewidth": 0,
              "ticks": ""
             }
            },
            "type": "parcoords"
           }
          ],
          "pie": [
           {
            "automargin": true,
            "type": "pie"
           }
          ],
          "scatter": [
           {
            "fillpattern": {
             "fillmode": "overlay",
             "size": 10,
             "solidity": 0.2
            },
            "type": "scatter"
           }
          ],
          "scatter3d": [
           {
            "line": {
             "colorbar": {
              "outlinewidth": 0,
              "ticks": ""
             }
            },
            "marker": {
             "colorbar": {
              "outlinewidth": 0,
              "ticks": ""
             }
            },
            "type": "scatter3d"
           }
          ],
          "scattercarpet": [
           {
            "marker": {
             "colorbar": {
              "outlinewidth": 0,
              "ticks": ""
             }
            },
            "type": "scattercarpet"
           }
          ],
          "scattergeo": [
           {
            "marker": {
             "colorbar": {
              "outlinewidth": 0,
              "ticks": ""
             }
            },
            "type": "scattergeo"
           }
          ],
          "scattergl": [
           {
            "marker": {
             "colorbar": {
              "outlinewidth": 0,
              "ticks": ""
             }
            },
            "type": "scattergl"
           }
          ],
          "scattermapbox": [
           {
            "marker": {
             "colorbar": {
              "outlinewidth": 0,
              "ticks": ""
             }
            },
            "type": "scattermapbox"
           }
          ],
          "scatterpolar": [
           {
            "marker": {
             "colorbar": {
              "outlinewidth": 0,
              "ticks": ""
             }
            },
            "type": "scatterpolar"
           }
          ],
          "scatterpolargl": [
           {
            "marker": {
             "colorbar": {
              "outlinewidth": 0,
              "ticks": ""
             }
            },
            "type": "scatterpolargl"
           }
          ],
          "scatterternary": [
           {
            "marker": {
             "colorbar": {
              "outlinewidth": 0,
              "ticks": ""
             }
            },
            "type": "scatterternary"
           }
          ],
          "surface": [
           {
            "colorbar": {
             "outlinewidth": 0,
             "ticks": ""
            },
            "colorscale": [
             [
              0,
              "#0d0887"
             ],
             [
              0.1111111111111111,
              "#46039f"
             ],
             [
              0.2222222222222222,
              "#7201a8"
             ],
             [
              0.3333333333333333,
              "#9c179e"
             ],
             [
              0.4444444444444444,
              "#bd3786"
             ],
             [
              0.5555555555555556,
              "#d8576b"
             ],
             [
              0.6666666666666666,
              "#ed7953"
             ],
             [
              0.7777777777777778,
              "#fb9f3a"
             ],
             [
              0.8888888888888888,
              "#fdca26"
             ],
             [
              1,
              "#f0f921"
             ]
            ],
            "type": "surface"
           }
          ],
          "table": [
           {
            "cells": {
             "fill": {
              "color": "#EBF0F8"
             },
             "line": {
              "color": "white"
             }
            },
            "header": {
             "fill": {
              "color": "#C8D4E3"
             },
             "line": {
              "color": "white"
             }
            },
            "type": "table"
           }
          ]
         },
         "layout": {
          "annotationdefaults": {
           "arrowcolor": "#2a3f5f",
           "arrowhead": 0,
           "arrowwidth": 1
          },
          "autotypenumbers": "strict",
          "coloraxis": {
           "colorbar": {
            "outlinewidth": 0,
            "ticks": ""
           }
          },
          "colorscale": {
           "diverging": [
            [
             0,
             "#8e0152"
            ],
            [
             0.1,
             "#c51b7d"
            ],
            [
             0.2,
             "#de77ae"
            ],
            [
             0.3,
             "#f1b6da"
            ],
            [
             0.4,
             "#fde0ef"
            ],
            [
             0.5,
             "#f7f7f7"
            ],
            [
             0.6,
             "#e6f5d0"
            ],
            [
             0.7,
             "#b8e186"
            ],
            [
             0.8,
             "#7fbc41"
            ],
            [
             0.9,
             "#4d9221"
            ],
            [
             1,
             "#276419"
            ]
           ],
           "sequential": [
            [
             0,
             "#0d0887"
            ],
            [
             0.1111111111111111,
             "#46039f"
            ],
            [
             0.2222222222222222,
             "#7201a8"
            ],
            [
             0.3333333333333333,
             "#9c179e"
            ],
            [
             0.4444444444444444,
             "#bd3786"
            ],
            [
             0.5555555555555556,
             "#d8576b"
            ],
            [
             0.6666666666666666,
             "#ed7953"
            ],
            [
             0.7777777777777778,
             "#fb9f3a"
            ],
            [
             0.8888888888888888,
             "#fdca26"
            ],
            [
             1,
             "#f0f921"
            ]
           ],
           "sequentialminus": [
            [
             0,
             "#0d0887"
            ],
            [
             0.1111111111111111,
             "#46039f"
            ],
            [
             0.2222222222222222,
             "#7201a8"
            ],
            [
             0.3333333333333333,
             "#9c179e"
            ],
            [
             0.4444444444444444,
             "#bd3786"
            ],
            [
             0.5555555555555556,
             "#d8576b"
            ],
            [
             0.6666666666666666,
             "#ed7953"
            ],
            [
             0.7777777777777778,
             "#fb9f3a"
            ],
            [
             0.8888888888888888,
             "#fdca26"
            ],
            [
             1,
             "#f0f921"
            ]
           ]
          },
          "colorway": [
           "#636efa",
           "#EF553B",
           "#00cc96",
           "#ab63fa",
           "#FFA15A",
           "#19d3f3",
           "#FF6692",
           "#B6E880",
           "#FF97FF",
           "#FECB52"
          ],
          "font": {
           "color": "#2a3f5f"
          },
          "geo": {
           "bgcolor": "white",
           "lakecolor": "white",
           "landcolor": "#E5ECF6",
           "showlakes": true,
           "showland": true,
           "subunitcolor": "white"
          },
          "hoverlabel": {
           "align": "left"
          },
          "hovermode": "closest",
          "mapbox": {
           "style": "light"
          },
          "paper_bgcolor": "white",
          "plot_bgcolor": "#E5ECF6",
          "polar": {
           "angularaxis": {
            "gridcolor": "white",
            "linecolor": "white",
            "ticks": ""
           },
           "bgcolor": "#E5ECF6",
           "radialaxis": {
            "gridcolor": "white",
            "linecolor": "white",
            "ticks": ""
           }
          },
          "scene": {
           "xaxis": {
            "backgroundcolor": "#E5ECF6",
            "gridcolor": "white",
            "gridwidth": 2,
            "linecolor": "white",
            "showbackground": true,
            "ticks": "",
            "zerolinecolor": "white"
           },
           "yaxis": {
            "backgroundcolor": "#E5ECF6",
            "gridcolor": "white",
            "gridwidth": 2,
            "linecolor": "white",
            "showbackground": true,
            "ticks": "",
            "zerolinecolor": "white"
           },
           "zaxis": {
            "backgroundcolor": "#E5ECF6",
            "gridcolor": "white",
            "gridwidth": 2,
            "linecolor": "white",
            "showbackground": true,
            "ticks": "",
            "zerolinecolor": "white"
           }
          },
          "shapedefaults": {
           "line": {
            "color": "#2a3f5f"
           }
          },
          "ternary": {
           "aaxis": {
            "gridcolor": "white",
            "linecolor": "white",
            "ticks": ""
           },
           "baxis": {
            "gridcolor": "white",
            "linecolor": "white",
            "ticks": ""
           },
           "bgcolor": "#E5ECF6",
           "caxis": {
            "gridcolor": "white",
            "linecolor": "white",
            "ticks": ""
           }
          },
          "title": {
           "x": 0.05
          },
          "xaxis": {
           "automargin": true,
           "gridcolor": "white",
           "linecolor": "white",
           "ticks": "",
           "title": {
            "standoff": 15
           },
           "zerolinecolor": "white",
           "zerolinewidth": 2
          },
          "yaxis": {
           "automargin": true,
           "gridcolor": "white",
           "linecolor": "white",
           "ticks": "",
           "title": {
            "standoff": 15
           },
           "zerolinecolor": "white",
           "zerolinewidth": 2
          }
         }
        },
        "title": {
         "text": "Plotting Loss vs Freezed Layers"
        },
        "xaxis": {
         "anchor": "y",
         "domain": [
          0,
          1
         ],
         "title": {
          "text": "Number Of Freezed Layers"
         }
        },
        "yaxis": {
         "anchor": "x",
         "domain": [
          0,
          1
         ],
         "range": [
          0,
          1
         ],
         "title": {
          "text": "Loss"
         }
        }
       }
      }
     },
     "metadata": {},
     "output_type": "display_data"
    }
   ],
   "source": [
    "df = getData()\n",
    "df = df[df.Epoch == 9]\n",
    "fig = px.line(\n",
    "    df, \n",
    "    x=df['freezed_layer'], \n",
    "    y=df['val_loss'],\n",
    "    title=\"Plotting Loss vs Freezed Layers\",\n",
    ").update_layout(xaxis_title=\"Number Of Freezed Layers\", yaxis_title=\"Loss\",yaxis_range=[0.0,1.0])\n",
    "fig.show()"
   ]
  },
  {
   "attachments": {},
   "cell_type": "markdown",
   "id": "47253f88",
   "metadata": {},
   "source": [
    "Plotting the Validation Accuracy vs freezed layers. We observe that as we increase the amount of freezed layers, the accuracy also decreases."
   ]
  },
  {
   "cell_type": "code",
   "execution_count": 19,
   "id": "d0af6cae",
   "metadata": {},
   "outputs": [
    {
     "data": {
      "application/vnd.plotly.v1+json": {
       "config": {
        "plotlyServerURL": "https://plot.ly"
       },
       "data": [
        {
         "hovertemplate": "freezed_layer=%{x}<br>val_binary_accuracy=%{y}<extra></extra>",
         "legendgroup": "",
         "line": {
          "color": "#636efa",
          "dash": "solid"
         },
         "marker": {
          "symbol": "circle"
         },
         "mode": "lines",
         "name": "",
         "orientation": "v",
         "showlegend": false,
         "type": "scatter",
         "x": [
          85,
          90,
          95,
          100,
          105,
          110,
          115,
          120,
          125,
          130
         ],
         "xaxis": "x",
         "y": [
          0.8681818246841431,
          0.8818181753158569,
          0.8393939137458801,
          0.8666666746139526,
          0.8742424249649048,
          0.8666666746139526,
          0.8803030252456665,
          0.8560606241226196,
          0.8181818127632141,
          0.8227272629737854
         ],
         "yaxis": "y"
        }
       ],
       "layout": {
        "legend": {
         "tracegroupgap": 0
        },
        "template": {
         "data": {
          "bar": [
           {
            "error_x": {
             "color": "#2a3f5f"
            },
            "error_y": {
             "color": "#2a3f5f"
            },
            "marker": {
             "line": {
              "color": "#E5ECF6",
              "width": 0.5
             },
             "pattern": {
              "fillmode": "overlay",
              "size": 10,
              "solidity": 0.2
             }
            },
            "type": "bar"
           }
          ],
          "barpolar": [
           {
            "marker": {
             "line": {
              "color": "#E5ECF6",
              "width": 0.5
             },
             "pattern": {
              "fillmode": "overlay",
              "size": 10,
              "solidity": 0.2
             }
            },
            "type": "barpolar"
           }
          ],
          "carpet": [
           {
            "aaxis": {
             "endlinecolor": "#2a3f5f",
             "gridcolor": "white",
             "linecolor": "white",
             "minorgridcolor": "white",
             "startlinecolor": "#2a3f5f"
            },
            "baxis": {
             "endlinecolor": "#2a3f5f",
             "gridcolor": "white",
             "linecolor": "white",
             "minorgridcolor": "white",
             "startlinecolor": "#2a3f5f"
            },
            "type": "carpet"
           }
          ],
          "choropleth": [
           {
            "colorbar": {
             "outlinewidth": 0,
             "ticks": ""
            },
            "type": "choropleth"
           }
          ],
          "contour": [
           {
            "colorbar": {
             "outlinewidth": 0,
             "ticks": ""
            },
            "colorscale": [
             [
              0,
              "#0d0887"
             ],
             [
              0.1111111111111111,
              "#46039f"
             ],
             [
              0.2222222222222222,
              "#7201a8"
             ],
             [
              0.3333333333333333,
              "#9c179e"
             ],
             [
              0.4444444444444444,
              "#bd3786"
             ],
             [
              0.5555555555555556,
              "#d8576b"
             ],
             [
              0.6666666666666666,
              "#ed7953"
             ],
             [
              0.7777777777777778,
              "#fb9f3a"
             ],
             [
              0.8888888888888888,
              "#fdca26"
             ],
             [
              1,
              "#f0f921"
             ]
            ],
            "type": "contour"
           }
          ],
          "contourcarpet": [
           {
            "colorbar": {
             "outlinewidth": 0,
             "ticks": ""
            },
            "type": "contourcarpet"
           }
          ],
          "heatmap": [
           {
            "colorbar": {
             "outlinewidth": 0,
             "ticks": ""
            },
            "colorscale": [
             [
              0,
              "#0d0887"
             ],
             [
              0.1111111111111111,
              "#46039f"
             ],
             [
              0.2222222222222222,
              "#7201a8"
             ],
             [
              0.3333333333333333,
              "#9c179e"
             ],
             [
              0.4444444444444444,
              "#bd3786"
             ],
             [
              0.5555555555555556,
              "#d8576b"
             ],
             [
              0.6666666666666666,
              "#ed7953"
             ],
             [
              0.7777777777777778,
              "#fb9f3a"
             ],
             [
              0.8888888888888888,
              "#fdca26"
             ],
             [
              1,
              "#f0f921"
             ]
            ],
            "type": "heatmap"
           }
          ],
          "heatmapgl": [
           {
            "colorbar": {
             "outlinewidth": 0,
             "ticks": ""
            },
            "colorscale": [
             [
              0,
              "#0d0887"
             ],
             [
              0.1111111111111111,
              "#46039f"
             ],
             [
              0.2222222222222222,
              "#7201a8"
             ],
             [
              0.3333333333333333,
              "#9c179e"
             ],
             [
              0.4444444444444444,
              "#bd3786"
             ],
             [
              0.5555555555555556,
              "#d8576b"
             ],
             [
              0.6666666666666666,
              "#ed7953"
             ],
             [
              0.7777777777777778,
              "#fb9f3a"
             ],
             [
              0.8888888888888888,
              "#fdca26"
             ],
             [
              1,
              "#f0f921"
             ]
            ],
            "type": "heatmapgl"
           }
          ],
          "histogram": [
           {
            "marker": {
             "pattern": {
              "fillmode": "overlay",
              "size": 10,
              "solidity": 0.2
             }
            },
            "type": "histogram"
           }
          ],
          "histogram2d": [
           {
            "colorbar": {
             "outlinewidth": 0,
             "ticks": ""
            },
            "colorscale": [
             [
              0,
              "#0d0887"
             ],
             [
              0.1111111111111111,
              "#46039f"
             ],
             [
              0.2222222222222222,
              "#7201a8"
             ],
             [
              0.3333333333333333,
              "#9c179e"
             ],
             [
              0.4444444444444444,
              "#bd3786"
             ],
             [
              0.5555555555555556,
              "#d8576b"
             ],
             [
              0.6666666666666666,
              "#ed7953"
             ],
             [
              0.7777777777777778,
              "#fb9f3a"
             ],
             [
              0.8888888888888888,
              "#fdca26"
             ],
             [
              1,
              "#f0f921"
             ]
            ],
            "type": "histogram2d"
           }
          ],
          "histogram2dcontour": [
           {
            "colorbar": {
             "outlinewidth": 0,
             "ticks": ""
            },
            "colorscale": [
             [
              0,
              "#0d0887"
             ],
             [
              0.1111111111111111,
              "#46039f"
             ],
             [
              0.2222222222222222,
              "#7201a8"
             ],
             [
              0.3333333333333333,
              "#9c179e"
             ],
             [
              0.4444444444444444,
              "#bd3786"
             ],
             [
              0.5555555555555556,
              "#d8576b"
             ],
             [
              0.6666666666666666,
              "#ed7953"
             ],
             [
              0.7777777777777778,
              "#fb9f3a"
             ],
             [
              0.8888888888888888,
              "#fdca26"
             ],
             [
              1,
              "#f0f921"
             ]
            ],
            "type": "histogram2dcontour"
           }
          ],
          "mesh3d": [
           {
            "colorbar": {
             "outlinewidth": 0,
             "ticks": ""
            },
            "type": "mesh3d"
           }
          ],
          "parcoords": [
           {
            "line": {
             "colorbar": {
              "outlinewidth": 0,
              "ticks": ""
             }
            },
            "type": "parcoords"
           }
          ],
          "pie": [
           {
            "automargin": true,
            "type": "pie"
           }
          ],
          "scatter": [
           {
            "fillpattern": {
             "fillmode": "overlay",
             "size": 10,
             "solidity": 0.2
            },
            "type": "scatter"
           }
          ],
          "scatter3d": [
           {
            "line": {
             "colorbar": {
              "outlinewidth": 0,
              "ticks": ""
             }
            },
            "marker": {
             "colorbar": {
              "outlinewidth": 0,
              "ticks": ""
             }
            },
            "type": "scatter3d"
           }
          ],
          "scattercarpet": [
           {
            "marker": {
             "colorbar": {
              "outlinewidth": 0,
              "ticks": ""
             }
            },
            "type": "scattercarpet"
           }
          ],
          "scattergeo": [
           {
            "marker": {
             "colorbar": {
              "outlinewidth": 0,
              "ticks": ""
             }
            },
            "type": "scattergeo"
           }
          ],
          "scattergl": [
           {
            "marker": {
             "colorbar": {
              "outlinewidth": 0,
              "ticks": ""
             }
            },
            "type": "scattergl"
           }
          ],
          "scattermapbox": [
           {
            "marker": {
             "colorbar": {
              "outlinewidth": 0,
              "ticks": ""
             }
            },
            "type": "scattermapbox"
           }
          ],
          "scatterpolar": [
           {
            "marker": {
             "colorbar": {
              "outlinewidth": 0,
              "ticks": ""
             }
            },
            "type": "scatterpolar"
           }
          ],
          "scatterpolargl": [
           {
            "marker": {
             "colorbar": {
              "outlinewidth": 0,
              "ticks": ""
             }
            },
            "type": "scatterpolargl"
           }
          ],
          "scatterternary": [
           {
            "marker": {
             "colorbar": {
              "outlinewidth": 0,
              "ticks": ""
             }
            },
            "type": "scatterternary"
           }
          ],
          "surface": [
           {
            "colorbar": {
             "outlinewidth": 0,
             "ticks": ""
            },
            "colorscale": [
             [
              0,
              "#0d0887"
             ],
             [
              0.1111111111111111,
              "#46039f"
             ],
             [
              0.2222222222222222,
              "#7201a8"
             ],
             [
              0.3333333333333333,
              "#9c179e"
             ],
             [
              0.4444444444444444,
              "#bd3786"
             ],
             [
              0.5555555555555556,
              "#d8576b"
             ],
             [
              0.6666666666666666,
              "#ed7953"
             ],
             [
              0.7777777777777778,
              "#fb9f3a"
             ],
             [
              0.8888888888888888,
              "#fdca26"
             ],
             [
              1,
              "#f0f921"
             ]
            ],
            "type": "surface"
           }
          ],
          "table": [
           {
            "cells": {
             "fill": {
              "color": "#EBF0F8"
             },
             "line": {
              "color": "white"
             }
            },
            "header": {
             "fill": {
              "color": "#C8D4E3"
             },
             "line": {
              "color": "white"
             }
            },
            "type": "table"
           }
          ]
         },
         "layout": {
          "annotationdefaults": {
           "arrowcolor": "#2a3f5f",
           "arrowhead": 0,
           "arrowwidth": 1
          },
          "autotypenumbers": "strict",
          "coloraxis": {
           "colorbar": {
            "outlinewidth": 0,
            "ticks": ""
           }
          },
          "colorscale": {
           "diverging": [
            [
             0,
             "#8e0152"
            ],
            [
             0.1,
             "#c51b7d"
            ],
            [
             0.2,
             "#de77ae"
            ],
            [
             0.3,
             "#f1b6da"
            ],
            [
             0.4,
             "#fde0ef"
            ],
            [
             0.5,
             "#f7f7f7"
            ],
            [
             0.6,
             "#e6f5d0"
            ],
            [
             0.7,
             "#b8e186"
            ],
            [
             0.8,
             "#7fbc41"
            ],
            [
             0.9,
             "#4d9221"
            ],
            [
             1,
             "#276419"
            ]
           ],
           "sequential": [
            [
             0,
             "#0d0887"
            ],
            [
             0.1111111111111111,
             "#46039f"
            ],
            [
             0.2222222222222222,
             "#7201a8"
            ],
            [
             0.3333333333333333,
             "#9c179e"
            ],
            [
             0.4444444444444444,
             "#bd3786"
            ],
            [
             0.5555555555555556,
             "#d8576b"
            ],
            [
             0.6666666666666666,
             "#ed7953"
            ],
            [
             0.7777777777777778,
             "#fb9f3a"
            ],
            [
             0.8888888888888888,
             "#fdca26"
            ],
            [
             1,
             "#f0f921"
            ]
           ],
           "sequentialminus": [
            [
             0,
             "#0d0887"
            ],
            [
             0.1111111111111111,
             "#46039f"
            ],
            [
             0.2222222222222222,
             "#7201a8"
            ],
            [
             0.3333333333333333,
             "#9c179e"
            ],
            [
             0.4444444444444444,
             "#bd3786"
            ],
            [
             0.5555555555555556,
             "#d8576b"
            ],
            [
             0.6666666666666666,
             "#ed7953"
            ],
            [
             0.7777777777777778,
             "#fb9f3a"
            ],
            [
             0.8888888888888888,
             "#fdca26"
            ],
            [
             1,
             "#f0f921"
            ]
           ]
          },
          "colorway": [
           "#636efa",
           "#EF553B",
           "#00cc96",
           "#ab63fa",
           "#FFA15A",
           "#19d3f3",
           "#FF6692",
           "#B6E880",
           "#FF97FF",
           "#FECB52"
          ],
          "font": {
           "color": "#2a3f5f"
          },
          "geo": {
           "bgcolor": "white",
           "lakecolor": "white",
           "landcolor": "#E5ECF6",
           "showlakes": true,
           "showland": true,
           "subunitcolor": "white"
          },
          "hoverlabel": {
           "align": "left"
          },
          "hovermode": "closest",
          "mapbox": {
           "style": "light"
          },
          "paper_bgcolor": "white",
          "plot_bgcolor": "#E5ECF6",
          "polar": {
           "angularaxis": {
            "gridcolor": "white",
            "linecolor": "white",
            "ticks": ""
           },
           "bgcolor": "#E5ECF6",
           "radialaxis": {
            "gridcolor": "white",
            "linecolor": "white",
            "ticks": ""
           }
          },
          "scene": {
           "xaxis": {
            "backgroundcolor": "#E5ECF6",
            "gridcolor": "white",
            "gridwidth": 2,
            "linecolor": "white",
            "showbackground": true,
            "ticks": "",
            "zerolinecolor": "white"
           },
           "yaxis": {
            "backgroundcolor": "#E5ECF6",
            "gridcolor": "white",
            "gridwidth": 2,
            "linecolor": "white",
            "showbackground": true,
            "ticks": "",
            "zerolinecolor": "white"
           },
           "zaxis": {
            "backgroundcolor": "#E5ECF6",
            "gridcolor": "white",
            "gridwidth": 2,
            "linecolor": "white",
            "showbackground": true,
            "ticks": "",
            "zerolinecolor": "white"
           }
          },
          "shapedefaults": {
           "line": {
            "color": "#2a3f5f"
           }
          },
          "ternary": {
           "aaxis": {
            "gridcolor": "white",
            "linecolor": "white",
            "ticks": ""
           },
           "baxis": {
            "gridcolor": "white",
            "linecolor": "white",
            "ticks": ""
           },
           "bgcolor": "#E5ECF6",
           "caxis": {
            "gridcolor": "white",
            "linecolor": "white",
            "ticks": ""
           }
          },
          "title": {
           "x": 0.05
          },
          "xaxis": {
           "automargin": true,
           "gridcolor": "white",
           "linecolor": "white",
           "ticks": "",
           "title": {
            "standoff": 15
           },
           "zerolinecolor": "white",
           "zerolinewidth": 2
          },
          "yaxis": {
           "automargin": true,
           "gridcolor": "white",
           "linecolor": "white",
           "ticks": "",
           "title": {
            "standoff": 15
           },
           "zerolinecolor": "white",
           "zerolinewidth": 2
          }
         }
        },
        "title": {
         "text": "Plotting Accuracy vs Freezed Layers"
        },
        "xaxis": {
         "anchor": "y",
         "domain": [
          0,
          1
         ],
         "title": {
          "text": "Number of Freezed Layers"
         }
        },
        "yaxis": {
         "anchor": "x",
         "domain": [
          0,
          1
         ],
         "range": [
          0.7,
          1
         ],
         "title": {
          "text": "Accuracy"
         }
        }
       }
      }
     },
     "metadata": {},
     "output_type": "display_data"
    }
   ],
   "source": [
    "df = getData()\n",
    "df = df[df.Epoch == 9]\n",
    "fig = px.line(\n",
    "    df, \n",
    "    x=df['freezed_layer'], \n",
    "    y=df['val_binary_accuracy'],\n",
    "    title=\"Plotting Accuracy vs Freezed Layers\",\n",
    ").update_layout(xaxis_title=\"Number of Freezed Layers\", yaxis_title=\"Accuracy\",yaxis_range=[0.7,1.0])\n",
    "fig.show()"
   ]
  },
  {
   "attachments": {},
   "cell_type": "markdown",
   "id": "58c023ee",
   "metadata": {},
   "source": [
    "Plotting accuracy and loss for the best optimum results achieved and that is for the freezed layers = 90 with the Validation Accuracy = 0.881818175315856 and the Validation Loss = 0.417837142944335. We can conclude that as we increase the epochs, our acuracy increases and the loass decreases."
   ]
  },
  {
   "cell_type": "code",
   "execution_count": 14,
   "id": "67e26796",
   "metadata": {},
   "outputs": [
    {
     "data": {
      "application/vnd.plotly.v1+json": {
       "config": {
        "plotlyServerURL": "https://plot.ly"
       },
       "data": [
        {
         "hovertemplate": "variable=val_loss<br>Epoch=%{x}<br>value=%{y}<extra></extra>",
         "legendgroup": "val_loss",
         "line": {
          "color": "#636efa",
          "dash": "solid"
         },
         "marker": {
          "symbol": "circle"
         },
         "mode": "lines",
         "name": "val_loss",
         "orientation": "v",
         "showlegend": true,
         "type": "scatter",
         "x": [
          0,
          1,
          2,
          3,
          4,
          5,
          6,
          7,
          8,
          9
         ],
         "xaxis": "x",
         "y": [
          1.0555500984191897,
          0.3270662724971771,
          0.3381555378437042,
          0.3185956180095672,
          0.4150987565517425,
          0.4926489591598511,
          0.3118153512477875,
          0.4398959875106811,
          0.5814164280891418,
          0.4178371429443359
         ],
         "yaxis": "y"
        },
        {
         "hovertemplate": "variable=val_binary_accuracy<br>Epoch=%{x}<br>value=%{y}<extra></extra>",
         "legendgroup": "val_binary_accuracy",
         "line": {
          "color": "#EF553B",
          "dash": "solid"
         },
         "marker": {
          "symbol": "circle"
         },
         "mode": "lines",
         "name": "val_binary_accuracy",
         "orientation": "v",
         "showlegend": true,
         "type": "scatter",
         "x": [
          0,
          1,
          2,
          3,
          4,
          5,
          6,
          7,
          8,
          9
         ],
         "xaxis": "x",
         "y": [
          0.75,
          0.8530303239822388,
          0.8575757741928101,
          0.8606060743331909,
          0.8454545736312866,
          0.846969723701477,
          0.8696969747543335,
          0.8621212244033813,
          0.821212112903595,
          0.8818181753158569
         ],
         "yaxis": "y"
        }
       ],
       "layout": {
        "legend": {
         "title": {
          "text": "variable"
         },
         "tracegroupgap": 0
        },
        "template": {
         "data": {
          "bar": [
           {
            "error_x": {
             "color": "#2a3f5f"
            },
            "error_y": {
             "color": "#2a3f5f"
            },
            "marker": {
             "line": {
              "color": "#E5ECF6",
              "width": 0.5
             },
             "pattern": {
              "fillmode": "overlay",
              "size": 10,
              "solidity": 0.2
             }
            },
            "type": "bar"
           }
          ],
          "barpolar": [
           {
            "marker": {
             "line": {
              "color": "#E5ECF6",
              "width": 0.5
             },
             "pattern": {
              "fillmode": "overlay",
              "size": 10,
              "solidity": 0.2
             }
            },
            "type": "barpolar"
           }
          ],
          "carpet": [
           {
            "aaxis": {
             "endlinecolor": "#2a3f5f",
             "gridcolor": "white",
             "linecolor": "white",
             "minorgridcolor": "white",
             "startlinecolor": "#2a3f5f"
            },
            "baxis": {
             "endlinecolor": "#2a3f5f",
             "gridcolor": "white",
             "linecolor": "white",
             "minorgridcolor": "white",
             "startlinecolor": "#2a3f5f"
            },
            "type": "carpet"
           }
          ],
          "choropleth": [
           {
            "colorbar": {
             "outlinewidth": 0,
             "ticks": ""
            },
            "type": "choropleth"
           }
          ],
          "contour": [
           {
            "colorbar": {
             "outlinewidth": 0,
             "ticks": ""
            },
            "colorscale": [
             [
              0,
              "#0d0887"
             ],
             [
              0.1111111111111111,
              "#46039f"
             ],
             [
              0.2222222222222222,
              "#7201a8"
             ],
             [
              0.3333333333333333,
              "#9c179e"
             ],
             [
              0.4444444444444444,
              "#bd3786"
             ],
             [
              0.5555555555555556,
              "#d8576b"
             ],
             [
              0.6666666666666666,
              "#ed7953"
             ],
             [
              0.7777777777777778,
              "#fb9f3a"
             ],
             [
              0.8888888888888888,
              "#fdca26"
             ],
             [
              1,
              "#f0f921"
             ]
            ],
            "type": "contour"
           }
          ],
          "contourcarpet": [
           {
            "colorbar": {
             "outlinewidth": 0,
             "ticks": ""
            },
            "type": "contourcarpet"
           }
          ],
          "heatmap": [
           {
            "colorbar": {
             "outlinewidth": 0,
             "ticks": ""
            },
            "colorscale": [
             [
              0,
              "#0d0887"
             ],
             [
              0.1111111111111111,
              "#46039f"
             ],
             [
              0.2222222222222222,
              "#7201a8"
             ],
             [
              0.3333333333333333,
              "#9c179e"
             ],
             [
              0.4444444444444444,
              "#bd3786"
             ],
             [
              0.5555555555555556,
              "#d8576b"
             ],
             [
              0.6666666666666666,
              "#ed7953"
             ],
             [
              0.7777777777777778,
              "#fb9f3a"
             ],
             [
              0.8888888888888888,
              "#fdca26"
             ],
             [
              1,
              "#f0f921"
             ]
            ],
            "type": "heatmap"
           }
          ],
          "heatmapgl": [
           {
            "colorbar": {
             "outlinewidth": 0,
             "ticks": ""
            },
            "colorscale": [
             [
              0,
              "#0d0887"
             ],
             [
              0.1111111111111111,
              "#46039f"
             ],
             [
              0.2222222222222222,
              "#7201a8"
             ],
             [
              0.3333333333333333,
              "#9c179e"
             ],
             [
              0.4444444444444444,
              "#bd3786"
             ],
             [
              0.5555555555555556,
              "#d8576b"
             ],
             [
              0.6666666666666666,
              "#ed7953"
             ],
             [
              0.7777777777777778,
              "#fb9f3a"
             ],
             [
              0.8888888888888888,
              "#fdca26"
             ],
             [
              1,
              "#f0f921"
             ]
            ],
            "type": "heatmapgl"
           }
          ],
          "histogram": [
           {
            "marker": {
             "pattern": {
              "fillmode": "overlay",
              "size": 10,
              "solidity": 0.2
             }
            },
            "type": "histogram"
           }
          ],
          "histogram2d": [
           {
            "colorbar": {
             "outlinewidth": 0,
             "ticks": ""
            },
            "colorscale": [
             [
              0,
              "#0d0887"
             ],
             [
              0.1111111111111111,
              "#46039f"
             ],
             [
              0.2222222222222222,
              "#7201a8"
             ],
             [
              0.3333333333333333,
              "#9c179e"
             ],
             [
              0.4444444444444444,
              "#bd3786"
             ],
             [
              0.5555555555555556,
              "#d8576b"
             ],
             [
              0.6666666666666666,
              "#ed7953"
             ],
             [
              0.7777777777777778,
              "#fb9f3a"
             ],
             [
              0.8888888888888888,
              "#fdca26"
             ],
             [
              1,
              "#f0f921"
             ]
            ],
            "type": "histogram2d"
           }
          ],
          "histogram2dcontour": [
           {
            "colorbar": {
             "outlinewidth": 0,
             "ticks": ""
            },
            "colorscale": [
             [
              0,
              "#0d0887"
             ],
             [
              0.1111111111111111,
              "#46039f"
             ],
             [
              0.2222222222222222,
              "#7201a8"
             ],
             [
              0.3333333333333333,
              "#9c179e"
             ],
             [
              0.4444444444444444,
              "#bd3786"
             ],
             [
              0.5555555555555556,
              "#d8576b"
             ],
             [
              0.6666666666666666,
              "#ed7953"
             ],
             [
              0.7777777777777778,
              "#fb9f3a"
             ],
             [
              0.8888888888888888,
              "#fdca26"
             ],
             [
              1,
              "#f0f921"
             ]
            ],
            "type": "histogram2dcontour"
           }
          ],
          "mesh3d": [
           {
            "colorbar": {
             "outlinewidth": 0,
             "ticks": ""
            },
            "type": "mesh3d"
           }
          ],
          "parcoords": [
           {
            "line": {
             "colorbar": {
              "outlinewidth": 0,
              "ticks": ""
             }
            },
            "type": "parcoords"
           }
          ],
          "pie": [
           {
            "automargin": true,
            "type": "pie"
           }
          ],
          "scatter": [
           {
            "fillpattern": {
             "fillmode": "overlay",
             "size": 10,
             "solidity": 0.2
            },
            "type": "scatter"
           }
          ],
          "scatter3d": [
           {
            "line": {
             "colorbar": {
              "outlinewidth": 0,
              "ticks": ""
             }
            },
            "marker": {
             "colorbar": {
              "outlinewidth": 0,
              "ticks": ""
             }
            },
            "type": "scatter3d"
           }
          ],
          "scattercarpet": [
           {
            "marker": {
             "colorbar": {
              "outlinewidth": 0,
              "ticks": ""
             }
            },
            "type": "scattercarpet"
           }
          ],
          "scattergeo": [
           {
            "marker": {
             "colorbar": {
              "outlinewidth": 0,
              "ticks": ""
             }
            },
            "type": "scattergeo"
           }
          ],
          "scattergl": [
           {
            "marker": {
             "colorbar": {
              "outlinewidth": 0,
              "ticks": ""
             }
            },
            "type": "scattergl"
           }
          ],
          "scattermapbox": [
           {
            "marker": {
             "colorbar": {
              "outlinewidth": 0,
              "ticks": ""
             }
            },
            "type": "scattermapbox"
           }
          ],
          "scatterpolar": [
           {
            "marker": {
             "colorbar": {
              "outlinewidth": 0,
              "ticks": ""
             }
            },
            "type": "scatterpolar"
           }
          ],
          "scatterpolargl": [
           {
            "marker": {
             "colorbar": {
              "outlinewidth": 0,
              "ticks": ""
             }
            },
            "type": "scatterpolargl"
           }
          ],
          "scatterternary": [
           {
            "marker": {
             "colorbar": {
              "outlinewidth": 0,
              "ticks": ""
             }
            },
            "type": "scatterternary"
           }
          ],
          "surface": [
           {
            "colorbar": {
             "outlinewidth": 0,
             "ticks": ""
            },
            "colorscale": [
             [
              0,
              "#0d0887"
             ],
             [
              0.1111111111111111,
              "#46039f"
             ],
             [
              0.2222222222222222,
              "#7201a8"
             ],
             [
              0.3333333333333333,
              "#9c179e"
             ],
             [
              0.4444444444444444,
              "#bd3786"
             ],
             [
              0.5555555555555556,
              "#d8576b"
             ],
             [
              0.6666666666666666,
              "#ed7953"
             ],
             [
              0.7777777777777778,
              "#fb9f3a"
             ],
             [
              0.8888888888888888,
              "#fdca26"
             ],
             [
              1,
              "#f0f921"
             ]
            ],
            "type": "surface"
           }
          ],
          "table": [
           {
            "cells": {
             "fill": {
              "color": "#EBF0F8"
             },
             "line": {
              "color": "white"
             }
            },
            "header": {
             "fill": {
              "color": "#C8D4E3"
             },
             "line": {
              "color": "white"
             }
            },
            "type": "table"
           }
          ]
         },
         "layout": {
          "annotationdefaults": {
           "arrowcolor": "#2a3f5f",
           "arrowhead": 0,
           "arrowwidth": 1
          },
          "autotypenumbers": "strict",
          "coloraxis": {
           "colorbar": {
            "outlinewidth": 0,
            "ticks": ""
           }
          },
          "colorscale": {
           "diverging": [
            [
             0,
             "#8e0152"
            ],
            [
             0.1,
             "#c51b7d"
            ],
            [
             0.2,
             "#de77ae"
            ],
            [
             0.3,
             "#f1b6da"
            ],
            [
             0.4,
             "#fde0ef"
            ],
            [
             0.5,
             "#f7f7f7"
            ],
            [
             0.6,
             "#e6f5d0"
            ],
            [
             0.7,
             "#b8e186"
            ],
            [
             0.8,
             "#7fbc41"
            ],
            [
             0.9,
             "#4d9221"
            ],
            [
             1,
             "#276419"
            ]
           ],
           "sequential": [
            [
             0,
             "#0d0887"
            ],
            [
             0.1111111111111111,
             "#46039f"
            ],
            [
             0.2222222222222222,
             "#7201a8"
            ],
            [
             0.3333333333333333,
             "#9c179e"
            ],
            [
             0.4444444444444444,
             "#bd3786"
            ],
            [
             0.5555555555555556,
             "#d8576b"
            ],
            [
             0.6666666666666666,
             "#ed7953"
            ],
            [
             0.7777777777777778,
             "#fb9f3a"
            ],
            [
             0.8888888888888888,
             "#fdca26"
            ],
            [
             1,
             "#f0f921"
            ]
           ],
           "sequentialminus": [
            [
             0,
             "#0d0887"
            ],
            [
             0.1111111111111111,
             "#46039f"
            ],
            [
             0.2222222222222222,
             "#7201a8"
            ],
            [
             0.3333333333333333,
             "#9c179e"
            ],
            [
             0.4444444444444444,
             "#bd3786"
            ],
            [
             0.5555555555555556,
             "#d8576b"
            ],
            [
             0.6666666666666666,
             "#ed7953"
            ],
            [
             0.7777777777777778,
             "#fb9f3a"
            ],
            [
             0.8888888888888888,
             "#fdca26"
            ],
            [
             1,
             "#f0f921"
            ]
           ]
          },
          "colorway": [
           "#636efa",
           "#EF553B",
           "#00cc96",
           "#ab63fa",
           "#FFA15A",
           "#19d3f3",
           "#FF6692",
           "#B6E880",
           "#FF97FF",
           "#FECB52"
          ],
          "font": {
           "color": "#2a3f5f"
          },
          "geo": {
           "bgcolor": "white",
           "lakecolor": "white",
           "landcolor": "#E5ECF6",
           "showlakes": true,
           "showland": true,
           "subunitcolor": "white"
          },
          "hoverlabel": {
           "align": "left"
          },
          "hovermode": "closest",
          "mapbox": {
           "style": "light"
          },
          "paper_bgcolor": "white",
          "plot_bgcolor": "#E5ECF6",
          "polar": {
           "angularaxis": {
            "gridcolor": "white",
            "linecolor": "white",
            "ticks": ""
           },
           "bgcolor": "#E5ECF6",
           "radialaxis": {
            "gridcolor": "white",
            "linecolor": "white",
            "ticks": ""
           }
          },
          "scene": {
           "xaxis": {
            "backgroundcolor": "#E5ECF6",
            "gridcolor": "white",
            "gridwidth": 2,
            "linecolor": "white",
            "showbackground": true,
            "ticks": "",
            "zerolinecolor": "white"
           },
           "yaxis": {
            "backgroundcolor": "#E5ECF6",
            "gridcolor": "white",
            "gridwidth": 2,
            "linecolor": "white",
            "showbackground": true,
            "ticks": "",
            "zerolinecolor": "white"
           },
           "zaxis": {
            "backgroundcolor": "#E5ECF6",
            "gridcolor": "white",
            "gridwidth": 2,
            "linecolor": "white",
            "showbackground": true,
            "ticks": "",
            "zerolinecolor": "white"
           }
          },
          "shapedefaults": {
           "line": {
            "color": "#2a3f5f"
           }
          },
          "ternary": {
           "aaxis": {
            "gridcolor": "white",
            "linecolor": "white",
            "ticks": ""
           },
           "baxis": {
            "gridcolor": "white",
            "linecolor": "white",
            "ticks": ""
           },
           "bgcolor": "#E5ECF6",
           "caxis": {
            "gridcolor": "white",
            "linecolor": "white",
            "ticks": ""
           }
          },
          "title": {
           "x": 0.05
          },
          "xaxis": {
           "automargin": true,
           "gridcolor": "white",
           "linecolor": "white",
           "ticks": "",
           "title": {
            "standoff": 15
           },
           "zerolinecolor": "white",
           "zerolinewidth": 2
          },
          "yaxis": {
           "automargin": true,
           "gridcolor": "white",
           "linecolor": "white",
           "ticks": "",
           "title": {
            "standoff": 15
           },
           "zerolinecolor": "white",
           "zerolinewidth": 2
          }
         }
        },
        "title": {
         "text": "Validation Accuracy & Loss (Freezed Layers = 90)"
        },
        "xaxis": {
         "anchor": "y",
         "domain": [
          0,
          1
         ],
         "title": {
          "text": "Number of Freezed Layers"
         }
        },
        "yaxis": {
         "anchor": "x",
         "domain": [
          0,
          1
         ],
         "title": {
          "text": "Accuracy"
         }
        }
       }
      }
     },
     "metadata": {},
     "output_type": "display_data"
    }
   ],
   "source": [
    "df = getData()\n",
    "df = df[df.freezed_layer == 90]\n",
    "fig = px.line(\n",
    "    df, \n",
    "    x='Epoch', \n",
    "    y=['val_loss','val_binary_accuracy'],\n",
    "    title=\"Validation Accuracy & Loss (Freezed Layers = 90)\"\n",
    ").update_layout(xaxis_title=\"Number of Freezed Layers\", yaxis_title=\"Accuracy\")\n",
    "fig.show()"
   ]
  },
  {
   "attachments": {},
   "cell_type": "markdown",
   "id": "6472e645",
   "metadata": {},
   "source": [
    "Plotting accuracy and loss for the worst results achieved and that is for the freezed layers = 125 with the Accuracy = 0.818181812763214 and the Loss = 0.480963498353958. Although, as the epochs are increased the accuracy and loss and increasing and decreaseing respectively, we have achieved optimum results with freezed layers = 90."
   ]
  },
  {
   "cell_type": "code",
   "execution_count": 21,
   "id": "b7dd8180",
   "metadata": {},
   "outputs": [
    {
     "data": {
      "application/vnd.plotly.v1+json": {
       "config": {
        "plotlyServerURL": "https://plot.ly"
       },
       "data": [
        {
         "hovertemplate": "variable=val_loss<br>Epoch=%{x}<br>value=%{y}<extra></extra>",
         "legendgroup": "val_loss",
         "line": {
          "color": "#636efa",
          "dash": "solid"
         },
         "marker": {
          "symbol": "circle"
         },
         "mode": "lines",
         "name": "val_loss",
         "orientation": "v",
         "showlegend": true,
         "type": "scatter",
         "x": [
          0,
          1,
          2,
          3,
          4,
          5,
          6,
          7,
          8,
          9
         ],
         "xaxis": "x",
         "y": [
          0.3585163056850433,
          0.387781411409378,
          0.299850195646286,
          0.5256544947624207,
          0.3883076608181,
          0.3351165652275085,
          0.4573019444942474,
          0.4476244449615478,
          0.3547546863555908,
          0.4809634983539581
         ],
         "yaxis": "y"
        },
        {
         "hovertemplate": "variable=val_binary_accuracy<br>Epoch=%{x}<br>value=%{y}<extra></extra>",
         "legendgroup": "val_binary_accuracy",
         "line": {
          "color": "#EF553B",
          "dash": "solid"
         },
         "marker": {
          "symbol": "circle"
         },
         "mode": "lines",
         "name": "val_binary_accuracy",
         "orientation": "v",
         "showlegend": true,
         "type": "scatter",
         "x": [
          0,
          1,
          2,
          3,
          4,
          5,
          6,
          7,
          8,
          9
         ],
         "xaxis": "x",
         "y": [
          0.842424213886261,
          0.8378787636756897,
          0.8590909242630005,
          0.7924242615699768,
          0.846969723701477,
          0.8803030252456665,
          0.846969723701477,
          0.8333333134651184,
          0.8666666746139526,
          0.8181818127632141
         ],
         "yaxis": "y"
        }
       ],
       "layout": {
        "legend": {
         "title": {
          "text": "variable"
         },
         "tracegroupgap": 0
        },
        "template": {
         "data": {
          "bar": [
           {
            "error_x": {
             "color": "#2a3f5f"
            },
            "error_y": {
             "color": "#2a3f5f"
            },
            "marker": {
             "line": {
              "color": "#E5ECF6",
              "width": 0.5
             },
             "pattern": {
              "fillmode": "overlay",
              "size": 10,
              "solidity": 0.2
             }
            },
            "type": "bar"
           }
          ],
          "barpolar": [
           {
            "marker": {
             "line": {
              "color": "#E5ECF6",
              "width": 0.5
             },
             "pattern": {
              "fillmode": "overlay",
              "size": 10,
              "solidity": 0.2
             }
            },
            "type": "barpolar"
           }
          ],
          "carpet": [
           {
            "aaxis": {
             "endlinecolor": "#2a3f5f",
             "gridcolor": "white",
             "linecolor": "white",
             "minorgridcolor": "white",
             "startlinecolor": "#2a3f5f"
            },
            "baxis": {
             "endlinecolor": "#2a3f5f",
             "gridcolor": "white",
             "linecolor": "white",
             "minorgridcolor": "white",
             "startlinecolor": "#2a3f5f"
            },
            "type": "carpet"
           }
          ],
          "choropleth": [
           {
            "colorbar": {
             "outlinewidth": 0,
             "ticks": ""
            },
            "type": "choropleth"
           }
          ],
          "contour": [
           {
            "colorbar": {
             "outlinewidth": 0,
             "ticks": ""
            },
            "colorscale": [
             [
              0,
              "#0d0887"
             ],
             [
              0.1111111111111111,
              "#46039f"
             ],
             [
              0.2222222222222222,
              "#7201a8"
             ],
             [
              0.3333333333333333,
              "#9c179e"
             ],
             [
              0.4444444444444444,
              "#bd3786"
             ],
             [
              0.5555555555555556,
              "#d8576b"
             ],
             [
              0.6666666666666666,
              "#ed7953"
             ],
             [
              0.7777777777777778,
              "#fb9f3a"
             ],
             [
              0.8888888888888888,
              "#fdca26"
             ],
             [
              1,
              "#f0f921"
             ]
            ],
            "type": "contour"
           }
          ],
          "contourcarpet": [
           {
            "colorbar": {
             "outlinewidth": 0,
             "ticks": ""
            },
            "type": "contourcarpet"
           }
          ],
          "heatmap": [
           {
            "colorbar": {
             "outlinewidth": 0,
             "ticks": ""
            },
            "colorscale": [
             [
              0,
              "#0d0887"
             ],
             [
              0.1111111111111111,
              "#46039f"
             ],
             [
              0.2222222222222222,
              "#7201a8"
             ],
             [
              0.3333333333333333,
              "#9c179e"
             ],
             [
              0.4444444444444444,
              "#bd3786"
             ],
             [
              0.5555555555555556,
              "#d8576b"
             ],
             [
              0.6666666666666666,
              "#ed7953"
             ],
             [
              0.7777777777777778,
              "#fb9f3a"
             ],
             [
              0.8888888888888888,
              "#fdca26"
             ],
             [
              1,
              "#f0f921"
             ]
            ],
            "type": "heatmap"
           }
          ],
          "heatmapgl": [
           {
            "colorbar": {
             "outlinewidth": 0,
             "ticks": ""
            },
            "colorscale": [
             [
              0,
              "#0d0887"
             ],
             [
              0.1111111111111111,
              "#46039f"
             ],
             [
              0.2222222222222222,
              "#7201a8"
             ],
             [
              0.3333333333333333,
              "#9c179e"
             ],
             [
              0.4444444444444444,
              "#bd3786"
             ],
             [
              0.5555555555555556,
              "#d8576b"
             ],
             [
              0.6666666666666666,
              "#ed7953"
             ],
             [
              0.7777777777777778,
              "#fb9f3a"
             ],
             [
              0.8888888888888888,
              "#fdca26"
             ],
             [
              1,
              "#f0f921"
             ]
            ],
            "type": "heatmapgl"
           }
          ],
          "histogram": [
           {
            "marker": {
             "pattern": {
              "fillmode": "overlay",
              "size": 10,
              "solidity": 0.2
             }
            },
            "type": "histogram"
           }
          ],
          "histogram2d": [
           {
            "colorbar": {
             "outlinewidth": 0,
             "ticks": ""
            },
            "colorscale": [
             [
              0,
              "#0d0887"
             ],
             [
              0.1111111111111111,
              "#46039f"
             ],
             [
              0.2222222222222222,
              "#7201a8"
             ],
             [
              0.3333333333333333,
              "#9c179e"
             ],
             [
              0.4444444444444444,
              "#bd3786"
             ],
             [
              0.5555555555555556,
              "#d8576b"
             ],
             [
              0.6666666666666666,
              "#ed7953"
             ],
             [
              0.7777777777777778,
              "#fb9f3a"
             ],
             [
              0.8888888888888888,
              "#fdca26"
             ],
             [
              1,
              "#f0f921"
             ]
            ],
            "type": "histogram2d"
           }
          ],
          "histogram2dcontour": [
           {
            "colorbar": {
             "outlinewidth": 0,
             "ticks": ""
            },
            "colorscale": [
             [
              0,
              "#0d0887"
             ],
             [
              0.1111111111111111,
              "#46039f"
             ],
             [
              0.2222222222222222,
              "#7201a8"
             ],
             [
              0.3333333333333333,
              "#9c179e"
             ],
             [
              0.4444444444444444,
              "#bd3786"
             ],
             [
              0.5555555555555556,
              "#d8576b"
             ],
             [
              0.6666666666666666,
              "#ed7953"
             ],
             [
              0.7777777777777778,
              "#fb9f3a"
             ],
             [
              0.8888888888888888,
              "#fdca26"
             ],
             [
              1,
              "#f0f921"
             ]
            ],
            "type": "histogram2dcontour"
           }
          ],
          "mesh3d": [
           {
            "colorbar": {
             "outlinewidth": 0,
             "ticks": ""
            },
            "type": "mesh3d"
           }
          ],
          "parcoords": [
           {
            "line": {
             "colorbar": {
              "outlinewidth": 0,
              "ticks": ""
             }
            },
            "type": "parcoords"
           }
          ],
          "pie": [
           {
            "automargin": true,
            "type": "pie"
           }
          ],
          "scatter": [
           {
            "fillpattern": {
             "fillmode": "overlay",
             "size": 10,
             "solidity": 0.2
            },
            "type": "scatter"
           }
          ],
          "scatter3d": [
           {
            "line": {
             "colorbar": {
              "outlinewidth": 0,
              "ticks": ""
             }
            },
            "marker": {
             "colorbar": {
              "outlinewidth": 0,
              "ticks": ""
             }
            },
            "type": "scatter3d"
           }
          ],
          "scattercarpet": [
           {
            "marker": {
             "colorbar": {
              "outlinewidth": 0,
              "ticks": ""
             }
            },
            "type": "scattercarpet"
           }
          ],
          "scattergeo": [
           {
            "marker": {
             "colorbar": {
              "outlinewidth": 0,
              "ticks": ""
             }
            },
            "type": "scattergeo"
           }
          ],
          "scattergl": [
           {
            "marker": {
             "colorbar": {
              "outlinewidth": 0,
              "ticks": ""
             }
            },
            "type": "scattergl"
           }
          ],
          "scattermapbox": [
           {
            "marker": {
             "colorbar": {
              "outlinewidth": 0,
              "ticks": ""
             }
            },
            "type": "scattermapbox"
           }
          ],
          "scatterpolar": [
           {
            "marker": {
             "colorbar": {
              "outlinewidth": 0,
              "ticks": ""
             }
            },
            "type": "scatterpolar"
           }
          ],
          "scatterpolargl": [
           {
            "marker": {
             "colorbar": {
              "outlinewidth": 0,
              "ticks": ""
             }
            },
            "type": "scatterpolargl"
           }
          ],
          "scatterternary": [
           {
            "marker": {
             "colorbar": {
              "outlinewidth": 0,
              "ticks": ""
             }
            },
            "type": "scatterternary"
           }
          ],
          "surface": [
           {
            "colorbar": {
             "outlinewidth": 0,
             "ticks": ""
            },
            "colorscale": [
             [
              0,
              "#0d0887"
             ],
             [
              0.1111111111111111,
              "#46039f"
             ],
             [
              0.2222222222222222,
              "#7201a8"
             ],
             [
              0.3333333333333333,
              "#9c179e"
             ],
             [
              0.4444444444444444,
              "#bd3786"
             ],
             [
              0.5555555555555556,
              "#d8576b"
             ],
             [
              0.6666666666666666,
              "#ed7953"
             ],
             [
              0.7777777777777778,
              "#fb9f3a"
             ],
             [
              0.8888888888888888,
              "#fdca26"
             ],
             [
              1,
              "#f0f921"
             ]
            ],
            "type": "surface"
           }
          ],
          "table": [
           {
            "cells": {
             "fill": {
              "color": "#EBF0F8"
             },
             "line": {
              "color": "white"
             }
            },
            "header": {
             "fill": {
              "color": "#C8D4E3"
             },
             "line": {
              "color": "white"
             }
            },
            "type": "table"
           }
          ]
         },
         "layout": {
          "annotationdefaults": {
           "arrowcolor": "#2a3f5f",
           "arrowhead": 0,
           "arrowwidth": 1
          },
          "autotypenumbers": "strict",
          "coloraxis": {
           "colorbar": {
            "outlinewidth": 0,
            "ticks": ""
           }
          },
          "colorscale": {
           "diverging": [
            [
             0,
             "#8e0152"
            ],
            [
             0.1,
             "#c51b7d"
            ],
            [
             0.2,
             "#de77ae"
            ],
            [
             0.3,
             "#f1b6da"
            ],
            [
             0.4,
             "#fde0ef"
            ],
            [
             0.5,
             "#f7f7f7"
            ],
            [
             0.6,
             "#e6f5d0"
            ],
            [
             0.7,
             "#b8e186"
            ],
            [
             0.8,
             "#7fbc41"
            ],
            [
             0.9,
             "#4d9221"
            ],
            [
             1,
             "#276419"
            ]
           ],
           "sequential": [
            [
             0,
             "#0d0887"
            ],
            [
             0.1111111111111111,
             "#46039f"
            ],
            [
             0.2222222222222222,
             "#7201a8"
            ],
            [
             0.3333333333333333,
             "#9c179e"
            ],
            [
             0.4444444444444444,
             "#bd3786"
            ],
            [
             0.5555555555555556,
             "#d8576b"
            ],
            [
             0.6666666666666666,
             "#ed7953"
            ],
            [
             0.7777777777777778,
             "#fb9f3a"
            ],
            [
             0.8888888888888888,
             "#fdca26"
            ],
            [
             1,
             "#f0f921"
            ]
           ],
           "sequentialminus": [
            [
             0,
             "#0d0887"
            ],
            [
             0.1111111111111111,
             "#46039f"
            ],
            [
             0.2222222222222222,
             "#7201a8"
            ],
            [
             0.3333333333333333,
             "#9c179e"
            ],
            [
             0.4444444444444444,
             "#bd3786"
            ],
            [
             0.5555555555555556,
             "#d8576b"
            ],
            [
             0.6666666666666666,
             "#ed7953"
            ],
            [
             0.7777777777777778,
             "#fb9f3a"
            ],
            [
             0.8888888888888888,
             "#fdca26"
            ],
            [
             1,
             "#f0f921"
            ]
           ]
          },
          "colorway": [
           "#636efa",
           "#EF553B",
           "#00cc96",
           "#ab63fa",
           "#FFA15A",
           "#19d3f3",
           "#FF6692",
           "#B6E880",
           "#FF97FF",
           "#FECB52"
          ],
          "font": {
           "color": "#2a3f5f"
          },
          "geo": {
           "bgcolor": "white",
           "lakecolor": "white",
           "landcolor": "#E5ECF6",
           "showlakes": true,
           "showland": true,
           "subunitcolor": "white"
          },
          "hoverlabel": {
           "align": "left"
          },
          "hovermode": "closest",
          "mapbox": {
           "style": "light"
          },
          "paper_bgcolor": "white",
          "plot_bgcolor": "#E5ECF6",
          "polar": {
           "angularaxis": {
            "gridcolor": "white",
            "linecolor": "white",
            "ticks": ""
           },
           "bgcolor": "#E5ECF6",
           "radialaxis": {
            "gridcolor": "white",
            "linecolor": "white",
            "ticks": ""
           }
          },
          "scene": {
           "xaxis": {
            "backgroundcolor": "#E5ECF6",
            "gridcolor": "white",
            "gridwidth": 2,
            "linecolor": "white",
            "showbackground": true,
            "ticks": "",
            "zerolinecolor": "white"
           },
           "yaxis": {
            "backgroundcolor": "#E5ECF6",
            "gridcolor": "white",
            "gridwidth": 2,
            "linecolor": "white",
            "showbackground": true,
            "ticks": "",
            "zerolinecolor": "white"
           },
           "zaxis": {
            "backgroundcolor": "#E5ECF6",
            "gridcolor": "white",
            "gridwidth": 2,
            "linecolor": "white",
            "showbackground": true,
            "ticks": "",
            "zerolinecolor": "white"
           }
          },
          "shapedefaults": {
           "line": {
            "color": "#2a3f5f"
           }
          },
          "ternary": {
           "aaxis": {
            "gridcolor": "white",
            "linecolor": "white",
            "ticks": ""
           },
           "baxis": {
            "gridcolor": "white",
            "linecolor": "white",
            "ticks": ""
           },
           "bgcolor": "#E5ECF6",
           "caxis": {
            "gridcolor": "white",
            "linecolor": "white",
            "ticks": ""
           }
          },
          "title": {
           "x": 0.05
          },
          "xaxis": {
           "automargin": true,
           "gridcolor": "white",
           "linecolor": "white",
           "ticks": "",
           "title": {
            "standoff": 15
           },
           "zerolinecolor": "white",
           "zerolinewidth": 2
          },
          "yaxis": {
           "automargin": true,
           "gridcolor": "white",
           "linecolor": "white",
           "ticks": "",
           "title": {
            "standoff": 15
           },
           "zerolinecolor": "white",
           "zerolinewidth": 2
          }
         }
        },
        "title": {
         "text": "Validation Accuracy & Loss (Freezed Layers = 125)"
        },
        "xaxis": {
         "anchor": "y",
         "domain": [
          0,
          1
         ],
         "title": {
          "text": "Number of Freezed Layers"
         }
        },
        "yaxis": {
         "anchor": "x",
         "domain": [
          0,
          1
         ],
         "title": {
          "text": "Accuracy"
         }
        }
       }
      }
     },
     "metadata": {},
     "output_type": "display_data"
    }
   ],
   "source": [
    "df = getData()\n",
    "df = df[df.freezed_layer == 125]\n",
    "fig = px.line(\n",
    "    df, \n",
    "    x='Epoch', \n",
    "    y=['val_loss','val_binary_accuracy'],\n",
    "    title=\"Validation Accuracy & Loss (Freezed Layers = 125)\"\n",
    ").update_layout(xaxis_title=\"Number of Freezed Layers\", yaxis_title=\"Accuracy\")\n",
    "fig.show()"
   ]
  },
  {
   "attachments": {
    "image.png": {
     "image/png": "[encoded data removed]"
    }
   },
   "cell_type": "markdown",
   "id": "2ebc9a60",
   "metadata": {},
   "source": [
    "# Summary\n",
    "\n",
    "The summary of our findings can be shown as below:\n",
    "\n",
    "![image.png](attachment:image.png)\n",
    "\n",
    "The column \"Freezed Layers\" signifies that how many layers were freezed for the training. The columns \"Loss\" and \"Accuracy\" signifies the loss and accuracy for those approaches.\n",
    "\n",
    "##### Based upon our findings, we conclude that the best optimum results can be achieved with 90 freezed layers with Accuracy = 0.977626085281372 and Loss = 0.0668815076351165."
   ]
  },
  {
   "attachments": {},
   "cell_type": "markdown",
   "id": "d35050ae",
   "metadata": {},
   "source": [
    "# Future Scope\n",
    "\n",
    "The future scope involves training for more epochs, however, that would require more computational power and we can explore that option if given more time.\n",
    "\n",
    "Moreover, different trained CNN model aprt from Xception can be used to achieve better results for this application.\n",
    "\n",
    "Furthermore, this application can be deployed to test and eventually production environment if it passes all the necessary approvals and compliances."
   ]
  },
  {
   "attachments": {},
   "cell_type": "markdown",
   "id": "1234ca0c",
   "metadata": {},
   "source": [
    "# References\n",
    "\n",
    "1. https://www.kaggle.com/code/danushkumarv/skin-cancer-detection-deep-cnn/notebook This notebook is used for the code guidance and as a baseline configuration.\n",
    "\n",
    "2. https://www.kaggle.com/datasets/fanconic/skin-cancer-malignant-vs-benign Dataset for skin cancer detection was used from here."
   ]
  }
 ],
 "metadata": {
  "kernelspec": {
   "display_name": "Python 3",
   "language": "python",
   "name": "python3"
  },
  "language_info": {
   "codemirror_mode": {
    "name": "ipython",
    "version": 3
   },
   "file_extension": ".py",
   "mimetype": "text/x-python",
   "name": "python",
   "nbconvert_exporter": "python",
   "pygments_lexer": "ipython3",
   "version": "3.9.6"
  },
  "papermill": {
   "default_parameters": {},
   "duration": 7500.940013,
   "end_time": "2023-03-28T22:44:55.701635",
   "environment_variables": {},
   "exception": null,
   "input_path": "__notebook__.ipynb",
   "output_path": "__notebook__.ipynb",
   "parameters": {},
   "start_time": "2023-03-28T20:39:54.761622",
   "version": "2.4.0"
  }
 },
 "nbformat": 4,
 "nbformat_minor": 5
}
